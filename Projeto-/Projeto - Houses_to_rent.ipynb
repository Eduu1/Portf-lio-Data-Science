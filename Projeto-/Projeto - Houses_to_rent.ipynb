{
 "cells": [
  {
   "cell_type": "code",
   "execution_count": 1,
   "metadata": {},
   "outputs": [],
   "source": [
    "# importando ass bibliotecas\n",
    "import pandas as pd\n",
    "import numpy as np\n",
    "import matplotlib.pyplot as plt\n",
    "import seaborn as sns\n",
    "import warnings \n",
    "warnings.filterwarnings('ignore')"
   ]
  },
  {
   "cell_type": "code",
   "execution_count": 2,
   "metadata": {},
   "outputs": [
    {
     "data": {
      "text/html": [
       "<div>\n",
       "<style scoped>\n",
       "    .dataframe tbody tr th:only-of-type {\n",
       "        vertical-align: middle;\n",
       "    }\n",
       "\n",
       "    .dataframe tbody tr th {\n",
       "        vertical-align: top;\n",
       "    }\n",
       "\n",
       "    .dataframe thead th {\n",
       "        text-align: right;\n",
       "    }\n",
       "</style>\n",
       "<table border=\"1\" class=\"dataframe\">\n",
       "  <thead>\n",
       "    <tr style=\"text-align: right;\">\n",
       "      <th></th>\n",
       "      <th>city</th>\n",
       "      <th>area</th>\n",
       "      <th>rooms</th>\n",
       "      <th>bathroom</th>\n",
       "      <th>parking spaces</th>\n",
       "      <th>floor</th>\n",
       "      <th>animal</th>\n",
       "      <th>furniture</th>\n",
       "      <th>hoa (R$)</th>\n",
       "      <th>rent amount (R$)</th>\n",
       "      <th>property tax (R$)</th>\n",
       "      <th>fire insurance (R$)</th>\n",
       "      <th>total (R$)</th>\n",
       "    </tr>\n",
       "  </thead>\n",
       "  <tbody>\n",
       "    <tr>\n",
       "      <th>0</th>\n",
       "      <td>São Paulo</td>\n",
       "      <td>70</td>\n",
       "      <td>2</td>\n",
       "      <td>1</td>\n",
       "      <td>1</td>\n",
       "      <td>7</td>\n",
       "      <td>acept</td>\n",
       "      <td>furnished</td>\n",
       "      <td>2065</td>\n",
       "      <td>3300</td>\n",
       "      <td>211</td>\n",
       "      <td>42</td>\n",
       "      <td>5618</td>\n",
       "    </tr>\n",
       "    <tr>\n",
       "      <th>1</th>\n",
       "      <td>São Paulo</td>\n",
       "      <td>320</td>\n",
       "      <td>4</td>\n",
       "      <td>4</td>\n",
       "      <td>0</td>\n",
       "      <td>20</td>\n",
       "      <td>acept</td>\n",
       "      <td>not furnished</td>\n",
       "      <td>1200</td>\n",
       "      <td>4960</td>\n",
       "      <td>1750</td>\n",
       "      <td>63</td>\n",
       "      <td>7973</td>\n",
       "    </tr>\n",
       "    <tr>\n",
       "      <th>2</th>\n",
       "      <td>Porto Alegre</td>\n",
       "      <td>80</td>\n",
       "      <td>1</td>\n",
       "      <td>1</td>\n",
       "      <td>1</td>\n",
       "      <td>6</td>\n",
       "      <td>acept</td>\n",
       "      <td>not furnished</td>\n",
       "      <td>1000</td>\n",
       "      <td>2800</td>\n",
       "      <td>0</td>\n",
       "      <td>41</td>\n",
       "      <td>3841</td>\n",
       "    </tr>\n",
       "    <tr>\n",
       "      <th>3</th>\n",
       "      <td>Porto Alegre</td>\n",
       "      <td>51</td>\n",
       "      <td>2</td>\n",
       "      <td>1</td>\n",
       "      <td>0</td>\n",
       "      <td>2</td>\n",
       "      <td>acept</td>\n",
       "      <td>not furnished</td>\n",
       "      <td>270</td>\n",
       "      <td>1112</td>\n",
       "      <td>22</td>\n",
       "      <td>17</td>\n",
       "      <td>1421</td>\n",
       "    </tr>\n",
       "    <tr>\n",
       "      <th>4</th>\n",
       "      <td>São Paulo</td>\n",
       "      <td>25</td>\n",
       "      <td>1</td>\n",
       "      <td>1</td>\n",
       "      <td>0</td>\n",
       "      <td>1</td>\n",
       "      <td>not acept</td>\n",
       "      <td>not furnished</td>\n",
       "      <td>0</td>\n",
       "      <td>800</td>\n",
       "      <td>25</td>\n",
       "      <td>11</td>\n",
       "      <td>836</td>\n",
       "    </tr>\n",
       "  </tbody>\n",
       "</table>\n",
       "</div>"
      ],
      "text/plain": [
       "           city  area  rooms  bathroom  parking spaces floor     animal  \\\n",
       "0     São Paulo    70      2         1               1     7      acept   \n",
       "1     São Paulo   320      4         4               0    20      acept   \n",
       "2  Porto Alegre    80      1         1               1     6      acept   \n",
       "3  Porto Alegre    51      2         1               0     2      acept   \n",
       "4     São Paulo    25      1         1               0     1  not acept   \n",
       "\n",
       "       furniture  hoa (R$)  rent amount (R$)  property tax (R$)  \\\n",
       "0      furnished      2065              3300                211   \n",
       "1  not furnished      1200              4960               1750   \n",
       "2  not furnished      1000              2800                  0   \n",
       "3  not furnished       270              1112                 22   \n",
       "4  not furnished         0               800                 25   \n",
       "\n",
       "   fire insurance (R$)  total (R$)  \n",
       "0                   42        5618  \n",
       "1                   63        7973  \n",
       "2                   41        3841  \n",
       "3                   17        1421  \n",
       "4                   11         836  "
      ]
     },
     "execution_count": 2,
     "metadata": {},
     "output_type": "execute_result"
    }
   ],
   "source": [
    "# carregando a base de dados\n",
    "dados = pd.read_csv('houses_to_rent_v2.csv')\n",
    "dados.head()"
   ]
  },
  {
   "cell_type": "code",
   "execution_count": 3,
   "metadata": {},
   "outputs": [],
   "source": [
    "# criando um dicionário para alterar as colunas do dataset \n",
    "coluna = {'city':'Cidade', 'area':'Area', 'rooms':'Qnt_Quartos', 'bathroom':'Qnt_Banheiros', 'parking spaces':'Vagas_Garagem',\n",
    "'floor':'Andar', 'animal':'Animal', 'furniture':'Mobiliada', 'hoa (R$)':'Valor_Condo', 'rent amount (R$)':'Valor_Aluguel', 'property tax (R$)':'IPTU',\n",
    "'fire insurance (R$)':'Seguro_Incendio', 'total (R$)':'Valor_Total'}"
   ]
  },
  {
   "cell_type": "code",
   "execution_count": 4,
   "metadata": {},
   "outputs": [
    {
     "data": {
      "text/html": [
       "<div>\n",
       "<style scoped>\n",
       "    .dataframe tbody tr th:only-of-type {\n",
       "        vertical-align: middle;\n",
       "    }\n",
       "\n",
       "    .dataframe tbody tr th {\n",
       "        vertical-align: top;\n",
       "    }\n",
       "\n",
       "    .dataframe thead th {\n",
       "        text-align: right;\n",
       "    }\n",
       "</style>\n",
       "<table border=\"1\" class=\"dataframe\">\n",
       "  <thead>\n",
       "    <tr style=\"text-align: right;\">\n",
       "      <th></th>\n",
       "      <th>Cidade</th>\n",
       "      <th>Area</th>\n",
       "      <th>Qnt_Quartos</th>\n",
       "      <th>Qnt_Banheiros</th>\n",
       "      <th>Vagas_Garagem</th>\n",
       "      <th>Andar</th>\n",
       "      <th>Animal</th>\n",
       "      <th>Mobiliada</th>\n",
       "      <th>Valor_Condo</th>\n",
       "      <th>Valor_Aluguel</th>\n",
       "      <th>IPTU</th>\n",
       "      <th>Seguro_Incendio</th>\n",
       "      <th>Valor_Total</th>\n",
       "    </tr>\n",
       "  </thead>\n",
       "  <tbody>\n",
       "    <tr>\n",
       "      <th>0</th>\n",
       "      <td>São Paulo</td>\n",
       "      <td>70</td>\n",
       "      <td>2</td>\n",
       "      <td>1</td>\n",
       "      <td>1</td>\n",
       "      <td>7</td>\n",
       "      <td>acept</td>\n",
       "      <td>furnished</td>\n",
       "      <td>2065</td>\n",
       "      <td>3300</td>\n",
       "      <td>211</td>\n",
       "      <td>42</td>\n",
       "      <td>5618</td>\n",
       "    </tr>\n",
       "    <tr>\n",
       "      <th>1</th>\n",
       "      <td>São Paulo</td>\n",
       "      <td>320</td>\n",
       "      <td>4</td>\n",
       "      <td>4</td>\n",
       "      <td>0</td>\n",
       "      <td>20</td>\n",
       "      <td>acept</td>\n",
       "      <td>not furnished</td>\n",
       "      <td>1200</td>\n",
       "      <td>4960</td>\n",
       "      <td>1750</td>\n",
       "      <td>63</td>\n",
       "      <td>7973</td>\n",
       "    </tr>\n",
       "    <tr>\n",
       "      <th>2</th>\n",
       "      <td>Porto Alegre</td>\n",
       "      <td>80</td>\n",
       "      <td>1</td>\n",
       "      <td>1</td>\n",
       "      <td>1</td>\n",
       "      <td>6</td>\n",
       "      <td>acept</td>\n",
       "      <td>not furnished</td>\n",
       "      <td>1000</td>\n",
       "      <td>2800</td>\n",
       "      <td>0</td>\n",
       "      <td>41</td>\n",
       "      <td>3841</td>\n",
       "    </tr>\n",
       "    <tr>\n",
       "      <th>3</th>\n",
       "      <td>Porto Alegre</td>\n",
       "      <td>51</td>\n",
       "      <td>2</td>\n",
       "      <td>1</td>\n",
       "      <td>0</td>\n",
       "      <td>2</td>\n",
       "      <td>acept</td>\n",
       "      <td>not furnished</td>\n",
       "      <td>270</td>\n",
       "      <td>1112</td>\n",
       "      <td>22</td>\n",
       "      <td>17</td>\n",
       "      <td>1421</td>\n",
       "    </tr>\n",
       "    <tr>\n",
       "      <th>4</th>\n",
       "      <td>São Paulo</td>\n",
       "      <td>25</td>\n",
       "      <td>1</td>\n",
       "      <td>1</td>\n",
       "      <td>0</td>\n",
       "      <td>1</td>\n",
       "      <td>not acept</td>\n",
       "      <td>not furnished</td>\n",
       "      <td>0</td>\n",
       "      <td>800</td>\n",
       "      <td>25</td>\n",
       "      <td>11</td>\n",
       "      <td>836</td>\n",
       "    </tr>\n",
       "  </tbody>\n",
       "</table>\n",
       "</div>"
      ],
      "text/plain": [
       "         Cidade  Area  Qnt_Quartos  Qnt_Banheiros  Vagas_Garagem Andar  \\\n",
       "0     São Paulo    70            2              1              1     7   \n",
       "1     São Paulo   320            4              4              0    20   \n",
       "2  Porto Alegre    80            1              1              1     6   \n",
       "3  Porto Alegre    51            2              1              0     2   \n",
       "4     São Paulo    25            1              1              0     1   \n",
       "\n",
       "      Animal      Mobiliada  Valor_Condo  Valor_Aluguel  IPTU  \\\n",
       "0      acept      furnished         2065           3300   211   \n",
       "1      acept  not furnished         1200           4960  1750   \n",
       "2      acept  not furnished         1000           2800     0   \n",
       "3      acept  not furnished          270           1112    22   \n",
       "4  not acept  not furnished            0            800    25   \n",
       "\n",
       "   Seguro_Incendio  Valor_Total  \n",
       "0               42         5618  \n",
       "1               63         7973  \n",
       "2               41         3841  \n",
       "3               17         1421  \n",
       "4               11          836  "
      ]
     },
     "execution_count": 4,
     "metadata": {},
     "output_type": "execute_result"
    }
   ],
   "source": [
    "# aplicando ao conjunto de dados os novos nomes das colunas\n",
    "dados = dados.rename(columns = coluna)\n",
    "dados.head()"
   ]
  },
  {
   "cell_type": "code",
   "execution_count": 5,
   "metadata": {},
   "outputs": [
    {
     "data": {
      "text/plain": [
       "(10692, 13)"
      ]
     },
     "execution_count": 5,
     "metadata": {},
     "output_type": "execute_result"
    }
   ],
   "source": [
    "# dimensão do dataset, observa-se que tem 10692 registros e 13 colunas\n",
    "dados.shape"
   ]
  },
  {
   "cell_type": "code",
   "execution_count": 6,
   "metadata": {},
   "outputs": [
    {
     "name": "stdout",
     "output_type": "stream",
     "text": [
      "<class 'pandas.core.frame.DataFrame'>\n",
      "RangeIndex: 10692 entries, 0 to 10691\n",
      "Data columns (total 13 columns):\n",
      " #   Column           Non-Null Count  Dtype \n",
      "---  ------           --------------  ----- \n",
      " 0   Cidade           10692 non-null  object\n",
      " 1   Area             10692 non-null  int64 \n",
      " 2   Qnt_Quartos      10692 non-null  int64 \n",
      " 3   Qnt_Banheiros    10692 non-null  int64 \n",
      " 4   Vagas_Garagem    10692 non-null  int64 \n",
      " 5   Andar            10692 non-null  object\n",
      " 6   Animal           10692 non-null  object\n",
      " 7   Mobiliada        10692 non-null  object\n",
      " 8   Valor_Condo      10692 non-null  int64 \n",
      " 9   Valor_Aluguel    10692 non-null  int64 \n",
      " 10  IPTU             10692 non-null  int64 \n",
      " 11  Seguro_Incendio  10692 non-null  int64 \n",
      " 12  Valor_Total      10692 non-null  int64 \n",
      "dtypes: int64(9), object(4)\n",
      "memory usage: 1.1+ MB\n"
     ]
    }
   ],
   "source": [
    "# método para ter um panorama geral sobre o dataset\n",
    "dados.info()"
   ]
  },
  {
   "cell_type": "markdown",
   "metadata": {},
   "source": [
    "Utilizando o método *info()* podemos perceber que os dados correspondem com seus tipos, exceto pela coluna *Andar* que ta definida com o tipo\n",
    "*Object*."
   ]
  },
  {
   "cell_type": "code",
   "execution_count": 7,
   "metadata": {},
   "outputs": [
    {
     "data": {
      "text/html": [
       "<div>\n",
       "<style scoped>\n",
       "    .dataframe tbody tr th:only-of-type {\n",
       "        vertical-align: middle;\n",
       "    }\n",
       "\n",
       "    .dataframe tbody tr th {\n",
       "        vertical-align: top;\n",
       "    }\n",
       "\n",
       "    .dataframe thead th {\n",
       "        text-align: right;\n",
       "    }\n",
       "</style>\n",
       "<table border=\"1\" class=\"dataframe\">\n",
       "  <thead>\n",
       "    <tr style=\"text-align: right;\">\n",
       "      <th></th>\n",
       "      <th>Area</th>\n",
       "      <th>Qnt_Quartos</th>\n",
       "      <th>Qnt_Banheiros</th>\n",
       "      <th>Vagas_Garagem</th>\n",
       "      <th>Valor_Condo</th>\n",
       "      <th>Valor_Aluguel</th>\n",
       "      <th>IPTU</th>\n",
       "      <th>Seguro_Incendio</th>\n",
       "      <th>Valor_Total</th>\n",
       "    </tr>\n",
       "  </thead>\n",
       "  <tbody>\n",
       "    <tr>\n",
       "      <th>count</th>\n",
       "      <td>10692.000000</td>\n",
       "      <td>10692.000000</td>\n",
       "      <td>10692.000000</td>\n",
       "      <td>10692.000000</td>\n",
       "      <td>1.069200e+04</td>\n",
       "      <td>10692.000000</td>\n",
       "      <td>10692.000000</td>\n",
       "      <td>10692.000000</td>\n",
       "      <td>1.069200e+04</td>\n",
       "    </tr>\n",
       "    <tr>\n",
       "      <th>mean</th>\n",
       "      <td>149.217920</td>\n",
       "      <td>2.506079</td>\n",
       "      <td>2.236813</td>\n",
       "      <td>1.609147</td>\n",
       "      <td>1.174022e+03</td>\n",
       "      <td>3896.247194</td>\n",
       "      <td>366.704358</td>\n",
       "      <td>53.300879</td>\n",
       "      <td>5.490487e+03</td>\n",
       "    </tr>\n",
       "    <tr>\n",
       "      <th>std</th>\n",
       "      <td>537.016942</td>\n",
       "      <td>1.171266</td>\n",
       "      <td>1.407198</td>\n",
       "      <td>1.589521</td>\n",
       "      <td>1.559231e+04</td>\n",
       "      <td>3408.545518</td>\n",
       "      <td>3107.832321</td>\n",
       "      <td>47.768031</td>\n",
       "      <td>1.648473e+04</td>\n",
       "    </tr>\n",
       "    <tr>\n",
       "      <th>min</th>\n",
       "      <td>11.000000</td>\n",
       "      <td>1.000000</td>\n",
       "      <td>1.000000</td>\n",
       "      <td>0.000000</td>\n",
       "      <td>0.000000e+00</td>\n",
       "      <td>450.000000</td>\n",
       "      <td>0.000000</td>\n",
       "      <td>3.000000</td>\n",
       "      <td>4.990000e+02</td>\n",
       "    </tr>\n",
       "    <tr>\n",
       "      <th>25%</th>\n",
       "      <td>56.000000</td>\n",
       "      <td>2.000000</td>\n",
       "      <td>1.000000</td>\n",
       "      <td>0.000000</td>\n",
       "      <td>1.700000e+02</td>\n",
       "      <td>1530.000000</td>\n",
       "      <td>38.000000</td>\n",
       "      <td>21.000000</td>\n",
       "      <td>2.061750e+03</td>\n",
       "    </tr>\n",
       "    <tr>\n",
       "      <th>50%</th>\n",
       "      <td>90.000000</td>\n",
       "      <td>2.000000</td>\n",
       "      <td>2.000000</td>\n",
       "      <td>1.000000</td>\n",
       "      <td>5.600000e+02</td>\n",
       "      <td>2661.000000</td>\n",
       "      <td>125.000000</td>\n",
       "      <td>36.000000</td>\n",
       "      <td>3.581500e+03</td>\n",
       "    </tr>\n",
       "    <tr>\n",
       "      <th>75%</th>\n",
       "      <td>182.000000</td>\n",
       "      <td>3.000000</td>\n",
       "      <td>3.000000</td>\n",
       "      <td>2.000000</td>\n",
       "      <td>1.237500e+03</td>\n",
       "      <td>5000.000000</td>\n",
       "      <td>375.000000</td>\n",
       "      <td>68.000000</td>\n",
       "      <td>6.768000e+03</td>\n",
       "    </tr>\n",
       "    <tr>\n",
       "      <th>max</th>\n",
       "      <td>46335.000000</td>\n",
       "      <td>13.000000</td>\n",
       "      <td>10.000000</td>\n",
       "      <td>12.000000</td>\n",
       "      <td>1.117000e+06</td>\n",
       "      <td>45000.000000</td>\n",
       "      <td>313700.000000</td>\n",
       "      <td>677.000000</td>\n",
       "      <td>1.120000e+06</td>\n",
       "    </tr>\n",
       "  </tbody>\n",
       "</table>\n",
       "</div>"
      ],
      "text/plain": [
       "               Area   Qnt_Quartos  Qnt_Banheiros  Vagas_Garagem   Valor_Condo  \\\n",
       "count  10692.000000  10692.000000   10692.000000   10692.000000  1.069200e+04   \n",
       "mean     149.217920      2.506079       2.236813       1.609147  1.174022e+03   \n",
       "std      537.016942      1.171266       1.407198       1.589521  1.559231e+04   \n",
       "min       11.000000      1.000000       1.000000       0.000000  0.000000e+00   \n",
       "25%       56.000000      2.000000       1.000000       0.000000  1.700000e+02   \n",
       "50%       90.000000      2.000000       2.000000       1.000000  5.600000e+02   \n",
       "75%      182.000000      3.000000       3.000000       2.000000  1.237500e+03   \n",
       "max    46335.000000     13.000000      10.000000      12.000000  1.117000e+06   \n",
       "\n",
       "       Valor_Aluguel           IPTU  Seguro_Incendio   Valor_Total  \n",
       "count   10692.000000   10692.000000     10692.000000  1.069200e+04  \n",
       "mean     3896.247194     366.704358        53.300879  5.490487e+03  \n",
       "std      3408.545518    3107.832321        47.768031  1.648473e+04  \n",
       "min       450.000000       0.000000         3.000000  4.990000e+02  \n",
       "25%      1530.000000      38.000000        21.000000  2.061750e+03  \n",
       "50%      2661.000000     125.000000        36.000000  3.581500e+03  \n",
       "75%      5000.000000     375.000000        68.000000  6.768000e+03  \n",
       "max     45000.000000  313700.000000       677.000000  1.120000e+06  "
      ]
     },
     "execution_count": 7,
     "metadata": {},
     "output_type": "execute_result"
    }
   ],
   "source": [
    "# reumo estatístico\n",
    "dados.describe()"
   ]
  },
  {
   "cell_type": "code",
   "execution_count": 8,
   "metadata": {},
   "outputs": [
    {
     "data": {
      "text/html": [
       "<div>\n",
       "<style scoped>\n",
       "    .dataframe tbody tr th:only-of-type {\n",
       "        vertical-align: middle;\n",
       "    }\n",
       "\n",
       "    .dataframe tbody tr th {\n",
       "        vertical-align: top;\n",
       "    }\n",
       "\n",
       "    .dataframe thead th {\n",
       "        text-align: right;\n",
       "    }\n",
       "</style>\n",
       "<table border=\"1\" class=\"dataframe\">\n",
       "  <thead>\n",
       "    <tr style=\"text-align: right;\">\n",
       "      <th></th>\n",
       "      <th>Cidade</th>\n",
       "      <th>Andar</th>\n",
       "      <th>Animal</th>\n",
       "      <th>Mobiliada</th>\n",
       "    </tr>\n",
       "  </thead>\n",
       "  <tbody>\n",
       "    <tr>\n",
       "      <th>count</th>\n",
       "      <td>10692</td>\n",
       "      <td>10692</td>\n",
       "      <td>10692</td>\n",
       "      <td>10692</td>\n",
       "    </tr>\n",
       "    <tr>\n",
       "      <th>unique</th>\n",
       "      <td>5</td>\n",
       "      <td>35</td>\n",
       "      <td>2</td>\n",
       "      <td>2</td>\n",
       "    </tr>\n",
       "    <tr>\n",
       "      <th>top</th>\n",
       "      <td>São Paulo</td>\n",
       "      <td>-</td>\n",
       "      <td>acept</td>\n",
       "      <td>not furnished</td>\n",
       "    </tr>\n",
       "    <tr>\n",
       "      <th>freq</th>\n",
       "      <td>5887</td>\n",
       "      <td>2461</td>\n",
       "      <td>8316</td>\n",
       "      <td>8086</td>\n",
       "    </tr>\n",
       "  </tbody>\n",
       "</table>\n",
       "</div>"
      ],
      "text/plain": [
       "           Cidade  Andar Animal      Mobiliada\n",
       "count       10692  10692  10692          10692\n",
       "unique          5     35      2              2\n",
       "top     São Paulo      -  acept  not furnished\n",
       "freq         5887   2461   8316           8086"
      ]
     },
     "execution_count": 8,
     "metadata": {},
     "output_type": "execute_result"
    }
   ],
   "source": [
    "# resumo estatístico para as colunas que são categóricas\n",
    "dados.describe(include = 'object')"
   ]
  },
  {
   "cell_type": "markdown",
   "metadata": {},
   "source": [
    "A coluna *Andar* do dataset é bem curiosa, o resumo estatístico acima aponta que os dados com maior frequência para esta coluna é \" - \" (um traço) e também é o top registro\n"
   ]
  },
  {
   "cell_type": "code",
   "execution_count": 9,
   "metadata": {},
   "outputs": [],
   "source": [
    "# gerando uma cópia do dataframe\n",
    "dados_copia = dados.copy()"
   ]
  },
  {
   "cell_type": "code",
   "execution_count": 10,
   "metadata": {},
   "outputs": [
    {
     "data": {
      "text/html": [
       "<div>\n",
       "<style scoped>\n",
       "    .dataframe tbody tr th:only-of-type {\n",
       "        vertical-align: middle;\n",
       "    }\n",
       "\n",
       "    .dataframe tbody tr th {\n",
       "        vertical-align: top;\n",
       "    }\n",
       "\n",
       "    .dataframe thead th {\n",
       "        text-align: right;\n",
       "    }\n",
       "</style>\n",
       "<table border=\"1\" class=\"dataframe\">\n",
       "  <thead>\n",
       "    <tr style=\"text-align: right;\">\n",
       "      <th></th>\n",
       "      <th>Cidade</th>\n",
       "      <th>Qnt_Quartos</th>\n",
       "      <th>Valor_Aluguel</th>\n",
       "    </tr>\n",
       "  </thead>\n",
       "  <tbody>\n",
       "    <tr>\n",
       "      <th>0</th>\n",
       "      <td>São Paulo</td>\n",
       "      <td>2</td>\n",
       "      <td>3300</td>\n",
       "    </tr>\n",
       "    <tr>\n",
       "      <th>1</th>\n",
       "      <td>São Paulo</td>\n",
       "      <td>4</td>\n",
       "      <td>4960</td>\n",
       "    </tr>\n",
       "    <tr>\n",
       "      <th>2</th>\n",
       "      <td>Porto Alegre</td>\n",
       "      <td>1</td>\n",
       "      <td>2800</td>\n",
       "    </tr>\n",
       "    <tr>\n",
       "      <th>3</th>\n",
       "      <td>Porto Alegre</td>\n",
       "      <td>2</td>\n",
       "      <td>1112</td>\n",
       "    </tr>\n",
       "    <tr>\n",
       "      <th>4</th>\n",
       "      <td>São Paulo</td>\n",
       "      <td>1</td>\n",
       "      <td>800</td>\n",
       "    </tr>\n",
       "  </tbody>\n",
       "</table>\n",
       "</div>"
      ],
      "text/plain": [
       "         Cidade  Qnt_Quartos  Valor_Aluguel\n",
       "0     São Paulo            2           3300\n",
       "1     São Paulo            4           4960\n",
       "2  Porto Alegre            1           2800\n",
       "3  Porto Alegre            2           1112\n",
       "4     São Paulo            1            800"
      ]
     },
     "execution_count": 10,
     "metadata": {},
     "output_type": "execute_result"
    }
   ],
   "source": [
    "# filtrando algumas colunas para análise\n",
    "colunas_Selecionadas = ['Cidade', 'Qnt_Quartos','Valor_Aluguel']\n",
    "dados_agrupado = dados_copia.filter(items = colunas_Selecionadas)\n",
    "dados_agrupado.head()"
   ]
  },
  {
   "cell_type": "code",
   "execution_count": 11,
   "metadata": {},
   "outputs": [
    {
     "data": {
      "text/plain": [
       "Cidade\n",
       "Belo Horizonte    1258\n",
       "Campinas           853\n",
       "Porto Alegre      1193\n",
       "Rio de Janeiro    1501\n",
       "São Paulo         5887\n",
       "dtype: int64"
      ]
     },
     "execution_count": 11,
     "metadata": {},
     "output_type": "execute_result"
    }
   ],
   "source": [
    "# obtendo a quantidade de registro de aluguel para cada cidade no dataframe\n",
    "dados_agrupado.groupby('Cidade').size()"
   ]
  },
  {
   "cell_type": "code",
   "execution_count": 12,
   "metadata": {},
   "outputs": [
    {
     "data": {
      "image/png": "[encoded data removed]",
      "text/plain": [
       "<Figure size 432x288 with 1 Axes>"
      ]
     },
     "metadata": {
      "needs_background": "light"
     },
     "output_type": "display_data"
    }
   ],
   "source": [
    "# gerando um gráfico de barras para visualizar esses dados\n",
    "dados_agrupado.groupby('Cidade').size().plot(kind = 'bar')\n",
    "plt.title(' Registro de Alugueis por Cidade', fontdict = {'size': 16})\n",
    "plt.xlabel('Cidades', fontdict = {'size': 14})\n",
    "plt.show()"
   ]
  },
  {
   "cell_type": "code",
   "execution_count": 13,
   "metadata": {},
   "outputs": [
    {
     "data": {
      "text/html": [
       "<div>\n",
       "<style scoped>\n",
       "    .dataframe tbody tr th:only-of-type {\n",
       "        vertical-align: middle;\n",
       "    }\n",
       "\n",
       "    .dataframe tbody tr th {\n",
       "        vertical-align: top;\n",
       "    }\n",
       "\n",
       "    .dataframe thead th {\n",
       "        text-align: right;\n",
       "    }\n",
       "</style>\n",
       "<table border=\"1\" class=\"dataframe\">\n",
       "  <thead>\n",
       "    <tr style=\"text-align: right;\">\n",
       "      <th></th>\n",
       "      <th>Qnt_Quartos</th>\n",
       "      <th>Valor_Aluguel</th>\n",
       "    </tr>\n",
       "    <tr>\n",
       "      <th>Cidade</th>\n",
       "      <th></th>\n",
       "      <th></th>\n",
       "    </tr>\n",
       "  </thead>\n",
       "  <tbody>\n",
       "    <tr>\n",
       "      <th>Belo Horizonte</th>\n",
       "      <td>10</td>\n",
       "      <td>15000</td>\n",
       "    </tr>\n",
       "    <tr>\n",
       "      <th>Campinas</th>\n",
       "      <td>7</td>\n",
       "      <td>15000</td>\n",
       "    </tr>\n",
       "    <tr>\n",
       "      <th>Porto Alegre</th>\n",
       "      <td>8</td>\n",
       "      <td>19000</td>\n",
       "    </tr>\n",
       "    <tr>\n",
       "      <th>Rio de Janeiro</th>\n",
       "      <td>13</td>\n",
       "      <td>15000</td>\n",
       "    </tr>\n",
       "    <tr>\n",
       "      <th>São Paulo</th>\n",
       "      <td>10</td>\n",
       "      <td>45000</td>\n",
       "    </tr>\n",
       "  </tbody>\n",
       "</table>\n",
       "</div>"
      ],
      "text/plain": [
       "                Qnt_Quartos  Valor_Aluguel\n",
       "Cidade                                    \n",
       "Belo Horizonte           10          15000\n",
       "Campinas                  7          15000\n",
       "Porto Alegre              8          19000\n",
       "Rio de Janeiro           13          15000\n",
       "São Paulo                10          45000"
      ]
     },
     "execution_count": 13,
     "metadata": {},
     "output_type": "execute_result"
    }
   ],
   "source": [
    "# obtendo os valores maximos para quartos e valor de aluguel por cidade\n",
    "dados_agrupado.groupby('Cidade').max()"
   ]
  },
  {
   "cell_type": "code",
   "execution_count": 14,
   "metadata": {},
   "outputs": [
    {
     "data": {
      "text/html": [
       "<div>\n",
       "<style scoped>\n",
       "    .dataframe tbody tr th:only-of-type {\n",
       "        vertical-align: middle;\n",
       "    }\n",
       "\n",
       "    .dataframe tbody tr th {\n",
       "        vertical-align: top;\n",
       "    }\n",
       "\n",
       "    .dataframe thead th {\n",
       "        text-align: right;\n",
       "    }\n",
       "</style>\n",
       "<table border=\"1\" class=\"dataframe\">\n",
       "  <thead>\n",
       "    <tr style=\"text-align: right;\">\n",
       "      <th></th>\n",
       "      <th>Qnt_Quartos</th>\n",
       "      <th>Valor_Aluguel</th>\n",
       "    </tr>\n",
       "    <tr>\n",
       "      <th>Cidade</th>\n",
       "      <th></th>\n",
       "      <th></th>\n",
       "    </tr>\n",
       "  </thead>\n",
       "  <tbody>\n",
       "    <tr>\n",
       "      <th>Belo Horizonte</th>\n",
       "      <td>3.020668</td>\n",
       "      <td>3664.127981</td>\n",
       "    </tr>\n",
       "    <tr>\n",
       "      <th>Campinas</th>\n",
       "      <td>2.355217</td>\n",
       "      <td>2364.290739</td>\n",
       "    </tr>\n",
       "    <tr>\n",
       "      <th>Porto Alegre</th>\n",
       "      <td>2.140821</td>\n",
       "      <td>2337.699916</td>\n",
       "    </tr>\n",
       "    <tr>\n",
       "      <th>Rio de Janeiro</th>\n",
       "      <td>2.243837</td>\n",
       "      <td>3232.904064</td>\n",
       "    </tr>\n",
       "    <tr>\n",
       "      <th>São Paulo</th>\n",
       "      <td>2.558859</td>\n",
       "      <td>4652.793783</td>\n",
       "    </tr>\n",
       "  </tbody>\n",
       "</table>\n",
       "</div>"
      ],
      "text/plain": [
       "                Qnt_Quartos  Valor_Aluguel\n",
       "Cidade                                    \n",
       "Belo Horizonte     3.020668    3664.127981\n",
       "Campinas           2.355217    2364.290739\n",
       "Porto Alegre       2.140821    2337.699916\n",
       "Rio de Janeiro     2.243837    3232.904064\n",
       "São Paulo          2.558859    4652.793783"
      ]
     },
     "execution_count": 14,
     "metadata": {},
     "output_type": "execute_result"
    }
   ],
   "source": [
    "# obtendo a média para quartos e valor de aluguel\n",
    "dados_agrupado.groupby('Cidade').mean()"
   ]
  },
  {
   "cell_type": "code",
   "execution_count": 15,
   "metadata": {},
   "outputs": [
    {
     "data": {
      "image/png": "[encoded data removed]",
      "text/plain": [
       "<Figure size 432x288 with 1 Axes>"
      ]
     },
     "metadata": {
      "needs_background": "light"
     },
     "output_type": "display_data"
    }
   ],
   "source": [
    "# visualizando os dados com o gráfico de barras para valores maximos por cidades \n",
    "dados_agrupado.groupby('Cidade')['Valor_Aluguel'].max().plot(kind = 'barh')\n",
    "plt.title(' Maior valor de aluguel por Cidade', fontdict = {'size': 16})\n",
    "plt.xlabel('Reais R$', fontdict = {'size': 14})\n",
    "plt.ylabel('Cidades', fontdict = {'size':14})\n",
    "plt.show()"
   ]
  },
  {
   "cell_type": "code",
   "execution_count": 16,
   "metadata": {},
   "outputs": [
    {
     "data": {
      "image/png": "[encoded data removed]",
      "text/plain": [
       "<Figure size 432x288 with 1 Axes>"
      ]
     },
     "metadata": {
      "needs_background": "light"
     },
     "output_type": "display_data"
    }
   ],
   "source": [
    "# visualizando os dados no gráfico para valores maximos de quartos por cidade\n",
    "dados_agrupado.groupby('Cidade')['Qnt_Quartos'].max().plot(kind = 'barh', color = 'orange')\n",
    "plt.title(' Maior valor de aluguel por número de quartos', fontdict = {'size': 16})\n",
    "plt.ylabel('Cidades', fontdict = {'size': 14})\n",
    "plt.xlabel('Número de quartos', fontdict = {'size': 14})\n",
    "plt.show()"
   ]
  },
  {
   "cell_type": "code",
   "execution_count": 17,
   "metadata": {},
   "outputs": [
    {
     "data": {
      "image/png": "[encoded data removed]",
      "text/plain": [
       "<Figure size 432x288 with 1 Axes>"
      ]
     },
     "metadata": {
      "needs_background": "light"
     },
     "output_type": "display_data"
    }
   ],
   "source": [
    "# visualizando a media do valor do aluguel por cidades\n",
    "dados_agrupado.groupby('Cidade')['Valor_Aluguel'].mean().plot(kind = 'barh', color = 'Grey')\n",
    "plt.title(' Média do valor de aluguel por Cidade', fontdict = {'size': 16})\n",
    "plt.xlabel('Média em Reais R$', fontdict = {'size': 14})\n",
    "plt.ylabel('Cidades', fontdict = {'size':14})\n",
    "plt.show()"
   ]
  },
  {
   "cell_type": "code",
   "execution_count": 18,
   "metadata": {},
   "outputs": [
    {
     "data": {
      "text/plain": [
       "-      2461\n",
       "1      1081\n",
       "2       985\n",
       "3       931\n",
       "4       748\n",
       "5       600\n",
       "6       539\n",
       "7       497\n",
       "8       490\n",
       "9       369\n",
       "10      357\n",
       "11      303\n",
       "12      257\n",
       "13      200\n",
       "14      170\n",
       "15      147\n",
       "16      109\n",
       "17       96\n",
       "18       75\n",
       "19       53\n",
       "20       44\n",
       "21       42\n",
       "25       25\n",
       "23       25\n",
       "22       24\n",
       "26       20\n",
       "24       19\n",
       "27        8\n",
       "28        6\n",
       "29        5\n",
       "32        2\n",
       "46        1\n",
       "301       1\n",
       "51        1\n",
       "35        1\n",
       "Name: Andar, dtype: int64"
      ]
     },
     "execution_count": 18,
     "metadata": {},
     "output_type": "execute_result"
    }
   ],
   "source": [
    "# contagem dos valores presente na coluna Andar\n",
    "dados_copia['Andar'].value_counts()"
   ]
  },
  {
   "cell_type": "code",
   "execution_count": 19,
   "metadata": {},
   "outputs": [
    {
     "data": {
      "text/plain": [
       "array(['7', '20', '6', '2', '1', '-', '4', '3', '10', '11', '24', '9',\n",
       "       '8', '17', '18', '5', '13', '15', '16', '14', '26', '12', '21',\n",
       "       '19', '22', '27', '23', '35', '25', '46', '28', '29', '301', '51',\n",
       "       '32'], dtype=object)"
      ]
     },
     "execution_count": 19,
     "metadata": {},
     "output_type": "execute_result"
    }
   ],
   "source": [
    "# obtendo os valores únicos para Andar\n",
    "dados_copia['Andar'].unique()"
   ]
  },
  {
   "cell_type": "markdown",
   "metadata": {},
   "source": [
    "Então como percebemos anteriormente a coluna *andar* tem algumas características a serem consideradas para o tratamento dos dados. existem dois valores atipicos nessa coluna, considerando que se trata de aluguel de imóveis, os valores '301' e '51' são contados uma vez e se diferenciam muito dos outros registros observados. e também nota-se que '-' (o traço) identificado anteriormente provavelmente são de imóveis terreos. "
   ]
  },
  {
   "cell_type": "code",
   "execution_count": 20,
   "metadata": {},
   "outputs": [
    {
     "data": {
      "image/png": "[encoded data removed]",
      "text/plain": [
       "<Figure size 432x288 with 1 Axes>"
      ]
     },
     "metadata": {
      "needs_background": "light"
     },
     "output_type": "display_data"
    }
   ],
   "source": [
    "# boxplot para checar outilier e distribuição da quantidade de quartos em relação ao valor \n",
    "sns.boxplot(x = 'Qnt_Quartos', y = 'Valor_Aluguel', data = dados_agrupado)\n",
    "plt.xlabel('Quantidade de quartos', fontdict = {'size':14})\n",
    "plt.ylabel('Valor (R$)', fontdict = {'size':14})\n",
    "plt.title('Boxplot Quartos x Valor', fontdict = {'size':16})\n",
    "plt.show()"
   ]
  },
  {
   "cell_type": "code",
   "execution_count": 21,
   "metadata": {},
   "outputs": [
    {
     "data": {
      "image/png": "[encoded data removed]",
      "text/plain": [
       "<Figure size 432x288 with 1 Axes>"
      ]
     },
     "metadata": {
      "needs_background": "light"
     },
     "output_type": "display_data"
    }
   ],
   "source": [
    "# boxplot para banheiros em relação ao valor\n",
    "sns.boxplot(x = 'Qnt_Banheiros', y = 'Valor_Aluguel', data = dados_copia)\n",
    "plt.xlabel('Quantidade de banheiros', fontdict = {'size':14})\n",
    "plt.ylabel('Valor (R$)', fontdict = {'size':14})\n",
    "plt.title('Boxplot Banheiros x Valor', fontdict = {'size':16})\n",
    "plt.show()"
   ]
  },
  {
   "cell_type": "code",
   "execution_count": 22,
   "metadata": {},
   "outputs": [
    {
     "name": "stdout",
     "output_type": "stream",
     "text": [
      "[7952 1800  632  297    7    2    1    0    0    1]\n",
      "[  450.  4905.  9360. 13815. 18270. 22725. 27180. 31635. 36090. 40545.\n",
      " 45000.]\n"
     ]
    }
   ],
   "source": [
    "# método do numpy que retorna a contagem dentro de cada bin e as bordas do histograma\n",
    "cont, bin_edges = np.histogram(dados_copia['Valor_Aluguel'])\n",
    "print(cont)\n",
    "print(bin_edges)"
   ]
  },
  {
   "cell_type": "code",
   "execution_count": 23,
   "metadata": {},
   "outputs": [
    {
     "data": {
      "image/png": "[encoded data removed]",
      "text/plain": [
       "<Figure size 720x576 with 1 Axes>"
      ]
     },
     "metadata": {
      "needs_background": "light"
     },
     "output_type": "display_data"
    }
   ],
   "source": [
    "# observando a distribuição dos valores de aluguel \n",
    "plt.figure(figsize = (10, 8 ))\n",
    "sns.distplot(dados_copia['Valor_Aluguel'], kde = True, bins = 15)\n",
    "plt.xticks(ticks = bin_edges)\n",
    "plt.xlabel('Valor do aluguel (R$)', fontdict = {'size': 14})\n",
    "plt.ylabel('Densidade')\n",
    "plt.title('Distribuição dos valores de aluguel', fontdict = {'size': 16})\n",
    "plt.show()"
   ]
  },
  {
   "cell_type": "code",
   "execution_count": 24,
   "metadata": {},
   "outputs": [
    {
     "data": {
      "image/png": "[encoded data removed]",
      "text/plain": [
       "<Figure size 432x288 with 1 Axes>"
      ]
     },
     "metadata": {
      "needs_background": "light"
     },
     "output_type": "display_data"
    }
   ],
   "source": [
    "# boxplot do valor de aluguel \n",
    "sns.boxplot(dados['Valor_Aluguel'])\n",
    "plt.title('Boxplot Valor do Aluguel', fontdict = {'size': 16})\n",
    "plt.xlabel('Valor (R$)', fontdict = {'size': 14})\n",
    "plt.show()"
   ]
  },
  {
   "cell_type": "markdown",
   "metadata": {},
   "source": [
    "Observa-se que a coluna *Valor_Aluguel* tem alguns registros que são considerados outliers. Teremos que ponderar exluir alguns desses registros para deixar o modelo de Machine Learning mais genelarizado"
   ]
  },
  {
   "cell_type": "code",
   "execution_count": 25,
   "metadata": {},
   "outputs": [
    {
     "data": {
      "image/png": "[encoded data removed]",
      "text/plain": [
       "<Figure size 432x288 with 1 Axes>"
      ]
     },
     "metadata": {
      "needs_background": "light"
     },
     "output_type": "display_data"
    }
   ],
   "source": [
    "# como será o relacionamento entre a quantidade de quartos com a variavel alvo \n",
    "sns.regplot(x = 'Qnt_Quartos', y = 'Valor_Aluguel', data = dados_copia)\n",
    "plt.show()"
   ]
  },
  {
   "cell_type": "code",
   "execution_count": 26,
   "metadata": {},
   "outputs": [
    {
     "data": {
      "image/png": "[encoded data removed]",
      "text/plain": [
       "<Figure size 432x288 with 1 Axes>"
      ]
     },
     "metadata": {
      "needs_background": "light"
     },
     "output_type": "display_data"
    }
   ],
   "source": [
    "# relacionamento entre a variavel banheiros com a variavel alvo\n",
    "sns.regplot(x = 'Qnt_Banheiros', y = 'Valor_Aluguel', data = dados_copia)\n",
    "plt.show()"
   ]
  },
  {
   "cell_type": "code",
   "execution_count": 27,
   "metadata": {},
   "outputs": [
    {
     "data": {
      "image/png": "[encoded data removed]",
      "text/plain": [
       "<Figure size 432x288 with 1 Axes>"
      ]
     },
     "metadata": {
      "needs_background": "light"
     },
     "output_type": "display_data"
    }
   ],
   "source": [
    "# seguro de incêncido x valor do aluguel\n",
    "sns.regplot(x = 'Seguro_Incendio', y = 'Valor_Aluguel', data = dados_copia)\n",
    "plt.show()"
   ]
  },
  {
   "cell_type": "code",
   "execution_count": 28,
   "metadata": {},
   "outputs": [
    {
     "data": {
      "image/png": "[encoded data removed]",
      "text/plain": [
       "<Figure size 432x288 with 1 Axes>"
      ]
     },
     "metadata": {
      "needs_background": "light"
     },
     "output_type": "display_data"
    }
   ],
   "source": [
    "# vagas na garagem x valor do aluguel\n",
    "sns.regplot(x = 'Vagas_Garagem', y = 'Valor_Aluguel', data = dados_copia)\n",
    "plt.show()"
   ]
  },
  {
   "cell_type": "code",
   "execution_count": 29,
   "metadata": {},
   "outputs": [
    {
     "data": {
      "text/html": [
       "<div>\n",
       "<style scoped>\n",
       "    .dataframe tbody tr th:only-of-type {\n",
       "        vertical-align: middle;\n",
       "    }\n",
       "\n",
       "    .dataframe tbody tr th {\n",
       "        vertical-align: top;\n",
       "    }\n",
       "\n",
       "    .dataframe thead th {\n",
       "        text-align: right;\n",
       "    }\n",
       "</style>\n",
       "<table border=\"1\" class=\"dataframe\">\n",
       "  <thead>\n",
       "    <tr style=\"text-align: right;\">\n",
       "      <th></th>\n",
       "      <th>Area</th>\n",
       "      <th>Qnt_Quartos</th>\n",
       "      <th>Qnt_Banheiros</th>\n",
       "      <th>Vagas_Garagem</th>\n",
       "      <th>Valor_Condo</th>\n",
       "      <th>Valor_Aluguel</th>\n",
       "      <th>IPTU</th>\n",
       "      <th>Seguro_Incendio</th>\n",
       "      <th>Valor_Total</th>\n",
       "    </tr>\n",
       "  </thead>\n",
       "  <tbody>\n",
       "    <tr>\n",
       "      <th>Area</th>\n",
       "      <td>1.000000</td>\n",
       "      <td>0.193796</td>\n",
       "      <td>0.226766</td>\n",
       "      <td>0.193983</td>\n",
       "      <td>0.006890</td>\n",
       "      <td>0.180742</td>\n",
       "      <td>0.039059</td>\n",
       "      <td>0.188078</td>\n",
       "      <td>0.051799</td>\n",
       "    </tr>\n",
       "    <tr>\n",
       "      <th>Qnt_Quartos</th>\n",
       "      <td>0.193796</td>\n",
       "      <td>1.000000</td>\n",
       "      <td>0.733763</td>\n",
       "      <td>0.617510</td>\n",
       "      <td>0.007139</td>\n",
       "      <td>0.541758</td>\n",
       "      <td>0.075252</td>\n",
       "      <td>0.565148</td>\n",
       "      <td>0.134597</td>\n",
       "    </tr>\n",
       "    <tr>\n",
       "      <th>Qnt_Banheiros</th>\n",
       "      <td>0.226766</td>\n",
       "      <td>0.733763</td>\n",
       "      <td>1.000000</td>\n",
       "      <td>0.697379</td>\n",
       "      <td>0.050271</td>\n",
       "      <td>0.668504</td>\n",
       "      <td>0.109253</td>\n",
       "      <td>0.676399</td>\n",
       "      <td>0.208339</td>\n",
       "    </tr>\n",
       "    <tr>\n",
       "      <th>Vagas_Garagem</th>\n",
       "      <td>0.193983</td>\n",
       "      <td>0.617510</td>\n",
       "      <td>0.697379</td>\n",
       "      <td>1.000000</td>\n",
       "      <td>0.009321</td>\n",
       "      <td>0.578361</td>\n",
       "      <td>0.098378</td>\n",
       "      <td>0.597348</td>\n",
       "      <td>0.148684</td>\n",
       "    </tr>\n",
       "    <tr>\n",
       "      <th>Valor_Condo</th>\n",
       "      <td>0.006890</td>\n",
       "      <td>0.007139</td>\n",
       "      <td>0.050271</td>\n",
       "      <td>0.009321</td>\n",
       "      <td>1.000000</td>\n",
       "      <td>0.036490</td>\n",
       "      <td>0.007627</td>\n",
       "      <td>0.029535</td>\n",
       "      <td>0.955024</td>\n",
       "    </tr>\n",
       "    <tr>\n",
       "      <th>Valor_Aluguel</th>\n",
       "      <td>0.180742</td>\n",
       "      <td>0.541758</td>\n",
       "      <td>0.668504</td>\n",
       "      <td>0.578361</td>\n",
       "      <td>0.036490</td>\n",
       "      <td>1.000000</td>\n",
       "      <td>0.107884</td>\n",
       "      <td>0.987343</td>\n",
       "      <td>0.264490</td>\n",
       "    </tr>\n",
       "    <tr>\n",
       "      <th>IPTU</th>\n",
       "      <td>0.039059</td>\n",
       "      <td>0.075252</td>\n",
       "      <td>0.109253</td>\n",
       "      <td>0.098378</td>\n",
       "      <td>0.007627</td>\n",
       "      <td>0.107884</td>\n",
       "      <td>1.000000</td>\n",
       "      <td>0.105661</td>\n",
       "      <td>0.218344</td>\n",
       "    </tr>\n",
       "    <tr>\n",
       "      <th>Seguro_Incendio</th>\n",
       "      <td>0.188078</td>\n",
       "      <td>0.565148</td>\n",
       "      <td>0.676399</td>\n",
       "      <td>0.597348</td>\n",
       "      <td>0.029535</td>\n",
       "      <td>0.987343</td>\n",
       "      <td>0.105661</td>\n",
       "      <td>1.000000</td>\n",
       "      <td>0.254911</td>\n",
       "    </tr>\n",
       "    <tr>\n",
       "      <th>Valor_Total</th>\n",
       "      <td>0.051799</td>\n",
       "      <td>0.134597</td>\n",
       "      <td>0.208339</td>\n",
       "      <td>0.148684</td>\n",
       "      <td>0.955024</td>\n",
       "      <td>0.264490</td>\n",
       "      <td>0.218344</td>\n",
       "      <td>0.254911</td>\n",
       "      <td>1.000000</td>\n",
       "    </tr>\n",
       "  </tbody>\n",
       "</table>\n",
       "</div>"
      ],
      "text/plain": [
       "                     Area  Qnt_Quartos  Qnt_Banheiros  Vagas_Garagem  \\\n",
       "Area             1.000000     0.193796       0.226766       0.193983   \n",
       "Qnt_Quartos      0.193796     1.000000       0.733763       0.617510   \n",
       "Qnt_Banheiros    0.226766     0.733763       1.000000       0.697379   \n",
       "Vagas_Garagem    0.193983     0.617510       0.697379       1.000000   \n",
       "Valor_Condo      0.006890     0.007139       0.050271       0.009321   \n",
       "Valor_Aluguel    0.180742     0.541758       0.668504       0.578361   \n",
       "IPTU             0.039059     0.075252       0.109253       0.098378   \n",
       "Seguro_Incendio  0.188078     0.565148       0.676399       0.597348   \n",
       "Valor_Total      0.051799     0.134597       0.208339       0.148684   \n",
       "\n",
       "                 Valor_Condo  Valor_Aluguel      IPTU  Seguro_Incendio  \\\n",
       "Area                0.006890       0.180742  0.039059         0.188078   \n",
       "Qnt_Quartos         0.007139       0.541758  0.075252         0.565148   \n",
       "Qnt_Banheiros       0.050271       0.668504  0.109253         0.676399   \n",
       "Vagas_Garagem       0.009321       0.578361  0.098378         0.597348   \n",
       "Valor_Condo         1.000000       0.036490  0.007627         0.029535   \n",
       "Valor_Aluguel       0.036490       1.000000  0.107884         0.987343   \n",
       "IPTU                0.007627       0.107884  1.000000         0.105661   \n",
       "Seguro_Incendio     0.029535       0.987343  0.105661         1.000000   \n",
       "Valor_Total         0.955024       0.264490  0.218344         0.254911   \n",
       "\n",
       "                 Valor_Total  \n",
       "Area                0.051799  \n",
       "Qnt_Quartos         0.134597  \n",
       "Qnt_Banheiros       0.208339  \n",
       "Vagas_Garagem       0.148684  \n",
       "Valor_Condo         0.955024  \n",
       "Valor_Aluguel       0.264490  \n",
       "IPTU                0.218344  \n",
       "Seguro_Incendio     0.254911  \n",
       "Valor_Total         1.000000  "
      ]
     },
     "execution_count": 29,
     "metadata": {},
     "output_type": "execute_result"
    }
   ],
   "source": [
    "# correlação entre as variaveis\n",
    "dados_copia.corr()"
   ]
  },
  {
   "cell_type": "code",
   "execution_count": 30,
   "metadata": {},
   "outputs": [
    {
     "data": {
      "image/png": "[encoded data removed]",
      "text/plain": [
       "<Figure size 432x288 with 1 Axes>"
      ]
     },
     "metadata": {
      "needs_background": "light"
     },
     "output_type": "display_data"
    }
   ],
   "source": [
    "# boxplot da feature mobiliada\n",
    "sns.boxplot(x = 'Mobiliada', y = 'Valor_Aluguel', data = dados_copia)\n",
    "plt.xlabel('Mobiliada', fontdict = {'size': 14})\n",
    "plt.ylabel('Valor (R$)', fontdict = {'size': 14})\n",
    "plt.show()"
   ]
  },
  {
   "cell_type": "markdown",
   "metadata": {},
   "source": [
    "Pude observar que as variaveis Quartos, Banheiros, Seguro incêndio e vagas na garagem tem uma relação linear boas para prever a variavel alvo Valor do aluguel\n",
    "e a variavel seguro incêndio batento uma correlação forte de 0.98 "
   ]
  },
  {
   "cell_type": "code",
   "execution_count": 31,
   "metadata": {},
   "outputs": [],
   "source": [
    "# tratamento dos dados da coluna andar\n",
    "dados_copia['Andar'].replace('-', 0, inplace = True)"
   ]
  },
  {
   "cell_type": "code",
   "execution_count": 32,
   "metadata": {},
   "outputs": [
    {
     "data": {
      "text/plain": [
       "0    2461\n",
       "1    1081\n",
       "2     985\n",
       "3     931\n",
       "4     748\n",
       "Name: Andar, dtype: int64"
      ]
     },
     "execution_count": 32,
     "metadata": {},
     "output_type": "execute_result"
    }
   ],
   "source": [
    "# interpretando esses dados provavelmente essa observação era para imóveis terreos e então atribui o valor 0 a essa observação\n",
    "dados_copia['Andar'].value_counts().head()"
   ]
  },
  {
   "cell_type": "code",
   "execution_count": 33,
   "metadata": {},
   "outputs": [
    {
     "data": {
      "text/plain": [
       "dtype('int32')"
      ]
     },
     "execution_count": 33,
     "metadata": {},
     "output_type": "execute_result"
    }
   ],
   "source": [
    "# alterando o tipo dos dados para o correto agora\n",
    "dados_copia['Andar'] = dados_copia['Andar'].astype(int)\n",
    "dados_copia['Andar'].dtypes"
   ]
  },
  {
   "cell_type": "code",
   "execution_count": 34,
   "metadata": {},
   "outputs": [
    {
     "data": {
      "text/plain": [
       "Cidade             0\n",
       "Area               0\n",
       "Qnt_Quartos        0\n",
       "Qnt_Banheiros      0\n",
       "Vagas_Garagem      0\n",
       "Andar              0\n",
       "Animal             0\n",
       "Mobiliada          0\n",
       "Valor_Condo        0\n",
       "Valor_Aluguel      0\n",
       "IPTU               0\n",
       "Seguro_Incendio    0\n",
       "Valor_Total        0\n",
       "dtype: int64"
      ]
     },
     "execution_count": 34,
     "metadata": {},
     "output_type": "execute_result"
    }
   ],
   "source": [
    "# checando valores nulos\n",
    "dados_copia.isnull().sum()"
   ]
  },
  {
   "cell_type": "code",
   "execution_count": 35,
   "metadata": {},
   "outputs": [],
   "source": [
    "# importanto o modulo LabelEncoder para transformar os dados categóricos\n",
    "from sklearn.preprocessing import LabelEncoder\n",
    "\n",
    "features_encoder = ['Cidade', 'Animal', 'Mobiliada']\n",
    "\n",
    "encoder1 = LabelEncoder()\n",
    "dados_copia['Cidade'] = encoder1.fit_transform(dados_copia['Cidade'])\n",
    "\n",
    "encoder2 = LabelEncoder()\n",
    "dados_copia['Animal'] = encoder2.fit_transform(dados_copia['Animal'])\n",
    "\n",
    "encoder3 = LabelEncoder()\n",
    "dados_copia['Mobiliada'] = encoder3.fit_transform(dados_copia['Mobiliada'])"
   ]
  },
  {
   "cell_type": "code",
   "execution_count": 36,
   "metadata": {},
   "outputs": [
    {
     "data": {
      "text/html": [
       "<div>\n",
       "<style scoped>\n",
       "    .dataframe tbody tr th:only-of-type {\n",
       "        vertical-align: middle;\n",
       "    }\n",
       "\n",
       "    .dataframe tbody tr th {\n",
       "        vertical-align: top;\n",
       "    }\n",
       "\n",
       "    .dataframe thead th {\n",
       "        text-align: right;\n",
       "    }\n",
       "</style>\n",
       "<table border=\"1\" class=\"dataframe\">\n",
       "  <thead>\n",
       "    <tr style=\"text-align: right;\">\n",
       "      <th></th>\n",
       "      <th>Cidade</th>\n",
       "      <th>Area</th>\n",
       "      <th>Qnt_Quartos</th>\n",
       "      <th>Qnt_Banheiros</th>\n",
       "      <th>Vagas_Garagem</th>\n",
       "      <th>Andar</th>\n",
       "      <th>Animal</th>\n",
       "      <th>Mobiliada</th>\n",
       "      <th>Valor_Condo</th>\n",
       "      <th>Valor_Aluguel</th>\n",
       "      <th>IPTU</th>\n",
       "      <th>Seguro_Incendio</th>\n",
       "      <th>Valor_Total</th>\n",
       "    </tr>\n",
       "  </thead>\n",
       "  <tbody>\n",
       "    <tr>\n",
       "      <th>0</th>\n",
       "      <td>4</td>\n",
       "      <td>70</td>\n",
       "      <td>2</td>\n",
       "      <td>1</td>\n",
       "      <td>1</td>\n",
       "      <td>7</td>\n",
       "      <td>0</td>\n",
       "      <td>0</td>\n",
       "      <td>2065</td>\n",
       "      <td>3300</td>\n",
       "      <td>211</td>\n",
       "      <td>42</td>\n",
       "      <td>5618</td>\n",
       "    </tr>\n",
       "    <tr>\n",
       "      <th>1</th>\n",
       "      <td>4</td>\n",
       "      <td>320</td>\n",
       "      <td>4</td>\n",
       "      <td>4</td>\n",
       "      <td>0</td>\n",
       "      <td>20</td>\n",
       "      <td>0</td>\n",
       "      <td>1</td>\n",
       "      <td>1200</td>\n",
       "      <td>4960</td>\n",
       "      <td>1750</td>\n",
       "      <td>63</td>\n",
       "      <td>7973</td>\n",
       "    </tr>\n",
       "    <tr>\n",
       "      <th>2</th>\n",
       "      <td>2</td>\n",
       "      <td>80</td>\n",
       "      <td>1</td>\n",
       "      <td>1</td>\n",
       "      <td>1</td>\n",
       "      <td>6</td>\n",
       "      <td>0</td>\n",
       "      <td>1</td>\n",
       "      <td>1000</td>\n",
       "      <td>2800</td>\n",
       "      <td>0</td>\n",
       "      <td>41</td>\n",
       "      <td>3841</td>\n",
       "    </tr>\n",
       "  </tbody>\n",
       "</table>\n",
       "</div>"
      ],
      "text/plain": [
       "   Cidade  Area  Qnt_Quartos  Qnt_Banheiros  Vagas_Garagem  Andar  Animal  \\\n",
       "0       4    70            2              1              1      7       0   \n",
       "1       4   320            4              4              0     20       0   \n",
       "2       2    80            1              1              1      6       0   \n",
       "\n",
       "   Mobiliada  Valor_Condo  Valor_Aluguel  IPTU  Seguro_Incendio  Valor_Total  \n",
       "0          0         2065           3300   211               42         5618  \n",
       "1          1         1200           4960  1750               63         7973  \n",
       "2          1         1000           2800     0               41         3841  "
      ]
     },
     "execution_count": 36,
     "metadata": {},
     "output_type": "execute_result"
    }
   ],
   "source": [
    "# dataframe com os dados categóricos devidamente transformados\n",
    "dados_copia.head(3)"
   ]
  },
  {
   "cell_type": "code",
   "execution_count": 37,
   "metadata": {},
   "outputs": [
    {
     "data": {
      "text/plain": [
       "array(['Belo Horizonte', 'Campinas', 'Porto Alegre', 'Rio de Janeiro',\n",
       "       'São Paulo'], dtype=object)"
      ]
     },
     "execution_count": 37,
     "metadata": {},
     "output_type": "execute_result"
    }
   ],
   "source": [
    "# rotulo para cada classe\n",
    "encoder1.classes_"
   ]
  },
  {
   "cell_type": "code",
   "execution_count": 38,
   "metadata": {},
   "outputs": [],
   "source": [
    "# biblioteca pyod para detecção de outiliers\n",
    "from pyod.models.pca import PCA"
   ]
  },
  {
   "cell_type": "code",
   "execution_count": 39,
   "metadata": {},
   "outputs": [
    {
     "data": {
      "text/html": [
       "<div>\n",
       "<style scoped>\n",
       "    .dataframe tbody tr th:only-of-type {\n",
       "        vertical-align: middle;\n",
       "    }\n",
       "\n",
       "    .dataframe tbody tr th {\n",
       "        vertical-align: top;\n",
       "    }\n",
       "\n",
       "    .dataframe thead th {\n",
       "        text-align: right;\n",
       "    }\n",
       "</style>\n",
       "<table border=\"1\" class=\"dataframe\">\n",
       "  <thead>\n",
       "    <tr style=\"text-align: right;\">\n",
       "      <th></th>\n",
       "      <th>Cidade</th>\n",
       "      <th>Area</th>\n",
       "      <th>Qnt_Quartos</th>\n",
       "      <th>Qnt_Banheiros</th>\n",
       "      <th>Vagas_Garagem</th>\n",
       "      <th>Andar</th>\n",
       "      <th>Animal</th>\n",
       "      <th>Mobiliada</th>\n",
       "      <th>Valor_Condo</th>\n",
       "      <th>Valor_Aluguel</th>\n",
       "      <th>IPTU</th>\n",
       "      <th>Seguro_Incendio</th>\n",
       "      <th>Valor_Total</th>\n",
       "    </tr>\n",
       "  </thead>\n",
       "  <tbody>\n",
       "    <tr>\n",
       "      <th>0</th>\n",
       "      <td>4</td>\n",
       "      <td>70</td>\n",
       "      <td>2</td>\n",
       "      <td>1</td>\n",
       "      <td>1</td>\n",
       "      <td>7</td>\n",
       "      <td>0</td>\n",
       "      <td>0</td>\n",
       "      <td>2065</td>\n",
       "      <td>3300</td>\n",
       "      <td>211</td>\n",
       "      <td>42</td>\n",
       "      <td>5618</td>\n",
       "    </tr>\n",
       "  </tbody>\n",
       "</table>\n",
       "</div>"
      ],
      "text/plain": [
       "   Cidade  Area  Qnt_Quartos  Qnt_Banheiros  Vagas_Garagem  Andar  Animal  \\\n",
       "0       4    70            2              1              1      7       0   \n",
       "\n",
       "   Mobiliada  Valor_Condo  Valor_Aluguel  IPTU  Seguro_Incendio  Valor_Total  \n",
       "0          0         2065           3300   211               42         5618  "
      ]
     },
     "execution_count": 39,
     "metadata": {},
     "output_type": "execute_result"
    }
   ],
   "source": [
    "dados_copia.head(1)"
   ]
  },
  {
   "cell_type": "code",
   "execution_count": 40,
   "metadata": {},
   "outputs": [
    {
     "data": {
      "text/plain": [
       "PCA(contamination=0.1, copy=True, iterated_power='auto', n_components=None,\n",
       "  n_selected_components=None, random_state=None, standardization=True,\n",
       "  svd_solver='auto', tol=0.0, weighted=True, whiten=False)"
      ]
     },
     "execution_count": 40,
     "metadata": {},
     "output_type": "execute_result"
    }
   ],
   "source": [
    "detector = PCA()\n",
    "detector.fit(dados_copia)"
   ]
  },
  {
   "cell_type": "code",
   "execution_count": 41,
   "metadata": {},
   "outputs": [
    {
     "data": {
      "text/plain": [
       "array([0, 0, 0, ..., 0, 0, 0])"
      ]
     },
     "execution_count": 41,
     "metadata": {},
     "output_type": "execute_result"
    }
   ],
   "source": [
    "previsão = detector.labels_\n",
    "previsão"
   ]
  },
  {
   "cell_type": "code",
   "execution_count": 42,
   "metadata": {},
   "outputs": [
    {
     "data": {
      "text/plain": [
       "(array([0, 1]), array([9622, 1070], dtype=int64))"
      ]
     },
     "execution_count": 42,
     "metadata": {},
     "output_type": "execute_result"
    }
   ],
   "source": [
    "np.unique(previsão, return_counts = True)"
   ]
  },
  {
   "cell_type": "code",
   "execution_count": 43,
   "metadata": {},
   "outputs": [
    {
     "data": {
      "text/plain": [
       "array([4.67407460e+08, 6.70364883e+08, 4.10315503e+08, ...,\n",
       "       5.90550372e+08, 7.31148525e+08, 4.53335271e+08])"
      ]
     },
     "execution_count": 43,
     "metadata": {},
     "output_type": "execute_result"
    }
   ],
   "source": [
    "detector.decision_scores_"
   ]
  },
  {
   "cell_type": "code",
   "execution_count": 44,
   "metadata": {},
   "outputs": [],
   "source": [
    "outliers = []\n",
    "for i in range(len(previsão)):\n",
    "    if previsão[i] == 1:\n",
    "        outliers.append(i)"
   ]
  },
  {
   "cell_type": "code",
   "execution_count": 45,
   "metadata": {},
   "outputs": [
    {
     "data": {
      "text/html": [
       "<div>\n",
       "<style scoped>\n",
       "    .dataframe tbody tr th:only-of-type {\n",
       "        vertical-align: middle;\n",
       "    }\n",
       "\n",
       "    .dataframe tbody tr th {\n",
       "        vertical-align: top;\n",
       "    }\n",
       "\n",
       "    .dataframe thead th {\n",
       "        text-align: right;\n",
       "    }\n",
       "</style>\n",
       "<table border=\"1\" class=\"dataframe\">\n",
       "  <thead>\n",
       "    <tr style=\"text-align: right;\">\n",
       "      <th></th>\n",
       "      <th>Cidade</th>\n",
       "      <th>Area</th>\n",
       "      <th>Qnt_Quartos</th>\n",
       "      <th>Qnt_Banheiros</th>\n",
       "      <th>Vagas_Garagem</th>\n",
       "      <th>Andar</th>\n",
       "      <th>Animal</th>\n",
       "      <th>Mobiliada</th>\n",
       "      <th>Valor_Condo</th>\n",
       "      <th>Valor_Aluguel</th>\n",
       "      <th>IPTU</th>\n",
       "      <th>Seguro_Incendio</th>\n",
       "      <th>Valor_Total</th>\n",
       "    </tr>\n",
       "  </thead>\n",
       "  <tbody>\n",
       "    <tr>\n",
       "      <th>5</th>\n",
       "      <td>4</td>\n",
       "      <td>376</td>\n",
       "      <td>3</td>\n",
       "      <td>3</td>\n",
       "      <td>7</td>\n",
       "      <td>0</td>\n",
       "      <td>0</td>\n",
       "      <td>1</td>\n",
       "      <td>0</td>\n",
       "      <td>8000</td>\n",
       "      <td>834</td>\n",
       "      <td>121</td>\n",
       "      <td>8955</td>\n",
       "    </tr>\n",
       "    <tr>\n",
       "      <th>8</th>\n",
       "      <td>4</td>\n",
       "      <td>152</td>\n",
       "      <td>2</td>\n",
       "      <td>2</td>\n",
       "      <td>1</td>\n",
       "      <td>3</td>\n",
       "      <td>0</td>\n",
       "      <td>0</td>\n",
       "      <td>1000</td>\n",
       "      <td>15000</td>\n",
       "      <td>250</td>\n",
       "      <td>191</td>\n",
       "      <td>16440</td>\n",
       "    </tr>\n",
       "    <tr>\n",
       "      <th>15</th>\n",
       "      <td>1</td>\n",
       "      <td>330</td>\n",
       "      <td>4</td>\n",
       "      <td>6</td>\n",
       "      <td>6</td>\n",
       "      <td>0</td>\n",
       "      <td>0</td>\n",
       "      <td>0</td>\n",
       "      <td>680</td>\n",
       "      <td>8000</td>\n",
       "      <td>328</td>\n",
       "      <td>121</td>\n",
       "      <td>9129</td>\n",
       "    </tr>\n",
       "    <tr>\n",
       "      <th>19</th>\n",
       "      <td>4</td>\n",
       "      <td>600</td>\n",
       "      <td>4</td>\n",
       "      <td>5</td>\n",
       "      <td>6</td>\n",
       "      <td>0</td>\n",
       "      <td>0</td>\n",
       "      <td>1</td>\n",
       "      <td>0</td>\n",
       "      <td>12000</td>\n",
       "      <td>9500</td>\n",
       "      <td>181</td>\n",
       "      <td>21680</td>\n",
       "    </tr>\n",
       "    <tr>\n",
       "      <th>20</th>\n",
       "      <td>4</td>\n",
       "      <td>100</td>\n",
       "      <td>7</td>\n",
       "      <td>4</td>\n",
       "      <td>0</td>\n",
       "      <td>0</td>\n",
       "      <td>0</td>\n",
       "      <td>1</td>\n",
       "      <td>0</td>\n",
       "      <td>3800</td>\n",
       "      <td>118</td>\n",
       "      <td>58</td>\n",
       "      <td>3976</td>\n",
       "    </tr>\n",
       "    <tr>\n",
       "      <th>...</th>\n",
       "      <td>...</td>\n",
       "      <td>...</td>\n",
       "      <td>...</td>\n",
       "      <td>...</td>\n",
       "      <td>...</td>\n",
       "      <td>...</td>\n",
       "      <td>...</td>\n",
       "      <td>...</td>\n",
       "      <td>...</td>\n",
       "      <td>...</td>\n",
       "      <td>...</td>\n",
       "      <td>...</td>\n",
       "      <td>...</td>\n",
       "    </tr>\n",
       "    <tr>\n",
       "      <th>10633</th>\n",
       "      <td>3</td>\n",
       "      <td>290</td>\n",
       "      <td>4</td>\n",
       "      <td>4</td>\n",
       "      <td>0</td>\n",
       "      <td>0</td>\n",
       "      <td>0</td>\n",
       "      <td>1</td>\n",
       "      <td>0</td>\n",
       "      <td>15000</td>\n",
       "      <td>750</td>\n",
       "      <td>229</td>\n",
       "      <td>15980</td>\n",
       "    </tr>\n",
       "    <tr>\n",
       "      <th>10669</th>\n",
       "      <td>4</td>\n",
       "      <td>340</td>\n",
       "      <td>4</td>\n",
       "      <td>5</td>\n",
       "      <td>3</td>\n",
       "      <td>15</td>\n",
       "      <td>1</td>\n",
       "      <td>0</td>\n",
       "      <td>3519</td>\n",
       "      <td>12000</td>\n",
       "      <td>1287</td>\n",
       "      <td>153</td>\n",
       "      <td>16960</td>\n",
       "    </tr>\n",
       "    <tr>\n",
       "      <th>10681</th>\n",
       "      <td>4</td>\n",
       "      <td>230</td>\n",
       "      <td>3</td>\n",
       "      <td>5</td>\n",
       "      <td>3</td>\n",
       "      <td>3</td>\n",
       "      <td>1</td>\n",
       "      <td>1</td>\n",
       "      <td>3800</td>\n",
       "      <td>11000</td>\n",
       "      <td>1100</td>\n",
       "      <td>140</td>\n",
       "      <td>16040</td>\n",
       "    </tr>\n",
       "    <tr>\n",
       "      <th>10686</th>\n",
       "      <td>4</td>\n",
       "      <td>150</td>\n",
       "      <td>3</td>\n",
       "      <td>3</td>\n",
       "      <td>2</td>\n",
       "      <td>8</td>\n",
       "      <td>1</td>\n",
       "      <td>0</td>\n",
       "      <td>0</td>\n",
       "      <td>13500</td>\n",
       "      <td>0</td>\n",
       "      <td>172</td>\n",
       "      <td>13670</td>\n",
       "    </tr>\n",
       "    <tr>\n",
       "      <th>10688</th>\n",
       "      <td>4</td>\n",
       "      <td>285</td>\n",
       "      <td>4</td>\n",
       "      <td>4</td>\n",
       "      <td>4</td>\n",
       "      <td>17</td>\n",
       "      <td>0</td>\n",
       "      <td>1</td>\n",
       "      <td>3100</td>\n",
       "      <td>15000</td>\n",
       "      <td>973</td>\n",
       "      <td>191</td>\n",
       "      <td>19260</td>\n",
       "    </tr>\n",
       "  </tbody>\n",
       "</table>\n",
       "<p>1070 rows × 13 columns</p>\n",
       "</div>"
      ],
      "text/plain": [
       "       Cidade  Area  Qnt_Quartos  Qnt_Banheiros  Vagas_Garagem  Andar  Animal  \\\n",
       "5           4   376            3              3              7      0       0   \n",
       "8           4   152            2              2              1      3       0   \n",
       "15          1   330            4              6              6      0       0   \n",
       "19          4   600            4              5              6      0       0   \n",
       "20          4   100            7              4              0      0       0   \n",
       "...       ...   ...          ...            ...            ...    ...     ...   \n",
       "10633       3   290            4              4              0      0       0   \n",
       "10669       4   340            4              5              3     15       1   \n",
       "10681       4   230            3              5              3      3       1   \n",
       "10686       4   150            3              3              2      8       1   \n",
       "10688       4   285            4              4              4     17       0   \n",
       "\n",
       "       Mobiliada  Valor_Condo  Valor_Aluguel  IPTU  Seguro_Incendio  \\\n",
       "5              1            0           8000   834              121   \n",
       "8              0         1000          15000   250              191   \n",
       "15             0          680           8000   328              121   \n",
       "19             1            0          12000  9500              181   \n",
       "20             1            0           3800   118               58   \n",
       "...          ...          ...            ...   ...              ...   \n",
       "10633          1            0          15000   750              229   \n",
       "10669          0         3519          12000  1287              153   \n",
       "10681          1         3800          11000  1100              140   \n",
       "10686          0            0          13500     0              172   \n",
       "10688          1         3100          15000   973              191   \n",
       "\n",
       "       Valor_Total  \n",
       "5             8955  \n",
       "8            16440  \n",
       "15            9129  \n",
       "19           21680  \n",
       "20            3976  \n",
       "...            ...  \n",
       "10633        15980  \n",
       "10669        16960  \n",
       "10681        16040  \n",
       "10686        13670  \n",
       "10688        19260  \n",
       "\n",
       "[1070 rows x 13 columns]"
      ]
     },
     "execution_count": 45,
     "metadata": {},
     "output_type": "execute_result"
    }
   ],
   "source": [
    "lista_outliers = dados_copia.iloc[outliers, :]\n",
    "lista_outliers"
   ]
  },
  {
   "cell_type": "code",
   "execution_count": 46,
   "metadata": {},
   "outputs": [
    {
     "data": {
      "image/png": "[encoded data removed]",
      "text/plain": [
       "<Figure size 432x288 with 1 Axes>"
      ]
     },
     "metadata": {
      "needs_background": "light"
     },
     "output_type": "display_data"
    }
   ],
   "source": [
    "sns.distplot(lista_outliers['Valor_Aluguel'], kde = True)\n",
    "plt.show()"
   ]
  },
  {
   "cell_type": "code",
   "execution_count": 47,
   "metadata": {},
   "outputs": [
    {
     "data": {
      "image/png": "[encoded data removed]",
      "text/plain": [
       "<Figure size 864x720 with 16 Axes>"
      ]
     },
     "metadata": {
      "needs_background": "light"
     },
     "output_type": "display_data"
    }
   ],
   "source": [
    "lista_outliers.hist(figsize=(12,10))\n",
    "plt.show()"
   ]
  },
  {
   "cell_type": "markdown",
   "metadata": {},
   "source": [
    "Biblioteca pyod utilizado para detectar outiliers na base de dados. Utilizo o algoritmo PCA para isso aqui. A análise de componentes principais (PCA) pode ser usada na detecção de valores discrepantes. PCA é uma redução de dimensionalidade linear usando Decomposição de Valor Singular dos dados para projetá-los para um espaço dimensional inferior https://pyod.readthedocs.io/en/latest/pyod.models.html#pyod.models.pca.PCA"
   ]
  },
  {
   "cell_type": "code",
   "execution_count": 51,
   "metadata": {},
   "outputs": [
    {
     "data": {
      "text/html": [
       "<div>\n",
       "<style scoped>\n",
       "    .dataframe tbody tr th:only-of-type {\n",
       "        vertical-align: middle;\n",
       "    }\n",
       "\n",
       "    .dataframe tbody tr th {\n",
       "        vertical-align: top;\n",
       "    }\n",
       "\n",
       "    .dataframe thead th {\n",
       "        text-align: right;\n",
       "    }\n",
       "</style>\n",
       "<table border=\"1\" class=\"dataframe\">\n",
       "  <thead>\n",
       "    <tr style=\"text-align: right;\">\n",
       "      <th></th>\n",
       "      <th>Cidade</th>\n",
       "      <th>Area</th>\n",
       "      <th>Qnt_Quartos</th>\n",
       "      <th>Qnt_Banheiros</th>\n",
       "      <th>Vagas_Garagem</th>\n",
       "      <th>Andar</th>\n",
       "      <th>Animal</th>\n",
       "      <th>Mobiliada</th>\n",
       "      <th>Valor_Condo</th>\n",
       "      <th>Valor_Aluguel</th>\n",
       "      <th>IPTU</th>\n",
       "      <th>Seguro_Incendio</th>\n",
       "      <th>Valor_Total</th>\n",
       "    </tr>\n",
       "  </thead>\n",
       "  <tbody>\n",
       "    <tr>\n",
       "      <th>0</th>\n",
       "      <td>4</td>\n",
       "      <td>70</td>\n",
       "      <td>2</td>\n",
       "      <td>1</td>\n",
       "      <td>1</td>\n",
       "      <td>7</td>\n",
       "      <td>0</td>\n",
       "      <td>0</td>\n",
       "      <td>2065</td>\n",
       "      <td>3300</td>\n",
       "      <td>211</td>\n",
       "      <td>42</td>\n",
       "      <td>5618</td>\n",
       "    </tr>\n",
       "    <tr>\n",
       "      <th>1</th>\n",
       "      <td>4</td>\n",
       "      <td>320</td>\n",
       "      <td>4</td>\n",
       "      <td>4</td>\n",
       "      <td>0</td>\n",
       "      <td>20</td>\n",
       "      <td>0</td>\n",
       "      <td>1</td>\n",
       "      <td>1200</td>\n",
       "      <td>4960</td>\n",
       "      <td>1750</td>\n",
       "      <td>63</td>\n",
       "      <td>7973</td>\n",
       "    </tr>\n",
       "    <tr>\n",
       "      <th>2</th>\n",
       "      <td>2</td>\n",
       "      <td>80</td>\n",
       "      <td>1</td>\n",
       "      <td>1</td>\n",
       "      <td>1</td>\n",
       "      <td>6</td>\n",
       "      <td>0</td>\n",
       "      <td>1</td>\n",
       "      <td>1000</td>\n",
       "      <td>2800</td>\n",
       "      <td>0</td>\n",
       "      <td>41</td>\n",
       "      <td>3841</td>\n",
       "    </tr>\n",
       "    <tr>\n",
       "      <th>3</th>\n",
       "      <td>2</td>\n",
       "      <td>51</td>\n",
       "      <td>2</td>\n",
       "      <td>1</td>\n",
       "      <td>0</td>\n",
       "      <td>2</td>\n",
       "      <td>0</td>\n",
       "      <td>1</td>\n",
       "      <td>270</td>\n",
       "      <td>1112</td>\n",
       "      <td>22</td>\n",
       "      <td>17</td>\n",
       "      <td>1421</td>\n",
       "    </tr>\n",
       "    <tr>\n",
       "      <th>4</th>\n",
       "      <td>4</td>\n",
       "      <td>25</td>\n",
       "      <td>1</td>\n",
       "      <td>1</td>\n",
       "      <td>0</td>\n",
       "      <td>1</td>\n",
       "      <td>1</td>\n",
       "      <td>1</td>\n",
       "      <td>0</td>\n",
       "      <td>800</td>\n",
       "      <td>25</td>\n",
       "      <td>11</td>\n",
       "      <td>836</td>\n",
       "    </tr>\n",
       "  </tbody>\n",
       "</table>\n",
       "</div>"
      ],
      "text/plain": [
       "   Cidade  Area  Qnt_Quartos  Qnt_Banheiros  Vagas_Garagem  Andar  Animal  \\\n",
       "0       4    70            2              1              1      7       0   \n",
       "1       4   320            4              4              0     20       0   \n",
       "2       2    80            1              1              1      6       0   \n",
       "3       2    51            2              1              0      2       0   \n",
       "4       4    25            1              1              0      1       1   \n",
       "\n",
       "   Mobiliada  Valor_Condo  Valor_Aluguel  IPTU  Seguro_Incendio  Valor_Total  \n",
       "0          0         2065           3300   211               42         5618  \n",
       "1          1         1200           4960  1750               63         7973  \n",
       "2          1         1000           2800     0               41         3841  \n",
       "3          1          270           1112    22               17         1421  \n",
       "4          1            0            800    25               11          836  "
      ]
     },
     "execution_count": 51,
     "metadata": {},
     "output_type": "execute_result"
    }
   ],
   "source": [
    "# excluindo os outliers já que não usaremos essa informação na construção do modelo preditivo\n",
    "dados_copia.drop(outliers, axis = 0, inplace = True)\n",
    "dados_copia.head()"
   ]
  },
  {
   "cell_type": "code",
   "execution_count": 52,
   "metadata": {},
   "outputs": [
    {
     "data": {
      "text/plain": [
       "(9622, 13)"
      ]
     },
     "execution_count": 52,
     "metadata": {},
     "output_type": "execute_result"
    }
   ],
   "source": [
    "# agora o conjunto de dados tem 9622 registros e 13 colunas\n",
    "dados_copia.shape"
   ]
  },
  {
   "cell_type": "code",
   "execution_count": 54,
   "metadata": {},
   "outputs": [
    {
     "data": {
      "image/png": "[encoded data removed]",
      "text/plain": [
       "<Figure size 864x720 with 16 Axes>"
      ]
     },
     "metadata": {
      "needs_background": "light"
     },
     "output_type": "display_data"
    }
   ],
   "source": [
    "# gerando histograma para todas as colunas do dataset assim temos uma visão geral \n",
    "dados_copia.hist(figsize=(12,10))\n",
    "plt.show()"
   ]
  },
  {
   "cell_type": "code",
   "execution_count": 55,
   "metadata": {},
   "outputs": [
    {
     "data": {
      "text/html": [
       "<div>\n",
       "<style scoped>\n",
       "    .dataframe tbody tr th:only-of-type {\n",
       "        vertical-align: middle;\n",
       "    }\n",
       "\n",
       "    .dataframe tbody tr th {\n",
       "        vertical-align: top;\n",
       "    }\n",
       "\n",
       "    .dataframe thead th {\n",
       "        text-align: right;\n",
       "    }\n",
       "</style>\n",
       "<table border=\"1\" class=\"dataframe\">\n",
       "  <thead>\n",
       "    <tr style=\"text-align: right;\">\n",
       "      <th></th>\n",
       "      <th>Cidade</th>\n",
       "      <th>Area</th>\n",
       "      <th>Qnt_Quartos</th>\n",
       "      <th>Qnt_Banheiros</th>\n",
       "      <th>Vagas_Garagem</th>\n",
       "      <th>Andar</th>\n",
       "      <th>Animal</th>\n",
       "      <th>Mobiliada</th>\n",
       "      <th>Valor_Condo</th>\n",
       "      <th>Valor_Aluguel</th>\n",
       "      <th>IPTU</th>\n",
       "      <th>Seguro_Incendio</th>\n",
       "      <th>Valor_Total</th>\n",
       "    </tr>\n",
       "  </thead>\n",
       "  <tbody>\n",
       "    <tr>\n",
       "      <th>Cidade</th>\n",
       "      <td>1.000000</td>\n",
       "      <td>0.034588</td>\n",
       "      <td>-0.050694</td>\n",
       "      <td>0.098658</td>\n",
       "      <td>0.040666</td>\n",
       "      <td>0.143851</td>\n",
       "      <td>0.016788</td>\n",
       "      <td>-0.106162</td>\n",
       "      <td>0.196021</td>\n",
       "      <td>0.252618</td>\n",
       "      <td>0.162911</td>\n",
       "      <td>0.215288</td>\n",
       "      <td>0.266205</td>\n",
       "    </tr>\n",
       "    <tr>\n",
       "      <th>Area</th>\n",
       "      <td>0.034588</td>\n",
       "      <td>1.000000</td>\n",
       "      <td>0.693940</td>\n",
       "      <td>0.731643</td>\n",
       "      <td>0.623041</td>\n",
       "      <td>-0.100980</td>\n",
       "      <td>-0.156974</td>\n",
       "      <td>0.058462</td>\n",
       "      <td>0.354649</td>\n",
       "      <td>0.603112</td>\n",
       "      <td>0.598479</td>\n",
       "      <td>0.644644</td>\n",
       "      <td>0.626499</td>\n",
       "    </tr>\n",
       "    <tr>\n",
       "      <th>Qnt_Quartos</th>\n",
       "      <td>-0.050694</td>\n",
       "      <td>0.693940</td>\n",
       "      <td>1.000000</td>\n",
       "      <td>0.694589</td>\n",
       "      <td>0.584108</td>\n",
       "      <td>-0.067566</td>\n",
       "      <td>-0.190787</td>\n",
       "      <td>0.123270</td>\n",
       "      <td>0.320434</td>\n",
       "      <td>0.476805</td>\n",
       "      <td>0.456069</td>\n",
       "      <td>0.499150</td>\n",
       "      <td>0.505628</td>\n",
       "    </tr>\n",
       "    <tr>\n",
       "      <th>Qnt_Banheiros</th>\n",
       "      <td>0.098658</td>\n",
       "      <td>0.731643</td>\n",
       "      <td>0.694589</td>\n",
       "      <td>1.000000</td>\n",
       "      <td>0.658768</td>\n",
       "      <td>0.020270</td>\n",
       "      <td>-0.137084</td>\n",
       "      <td>0.023764</td>\n",
       "      <td>0.437679</td>\n",
       "      <td>0.605662</td>\n",
       "      <td>0.563965</td>\n",
       "      <td>0.615638</td>\n",
       "      <td>0.649819</td>\n",
       "    </tr>\n",
       "    <tr>\n",
       "      <th>Vagas_Garagem</th>\n",
       "      <td>0.040666</td>\n",
       "      <td>0.623041</td>\n",
       "      <td>0.584108</td>\n",
       "      <td>0.658768</td>\n",
       "      <td>1.000000</td>\n",
       "      <td>0.015623</td>\n",
       "      <td>-0.137370</td>\n",
       "      <td>0.036242</td>\n",
       "      <td>0.333107</td>\n",
       "      <td>0.502552</td>\n",
       "      <td>0.495653</td>\n",
       "      <td>0.520880</td>\n",
       "      <td>0.533225</td>\n",
       "    </tr>\n",
       "    <tr>\n",
       "      <th>Andar</th>\n",
       "      <td>0.143851</td>\n",
       "      <td>-0.100980</td>\n",
       "      <td>-0.067566</td>\n",
       "      <td>0.020270</td>\n",
       "      <td>0.015623</td>\n",
       "      <td>1.000000</td>\n",
       "      <td>0.001725</td>\n",
       "      <td>-0.121201</td>\n",
       "      <td>0.304571</td>\n",
       "      <td>0.116686</td>\n",
       "      <td>0.073176</td>\n",
       "      <td>0.048984</td>\n",
       "      <td>0.188821</td>\n",
       "    </tr>\n",
       "    <tr>\n",
       "      <th>Animal</th>\n",
       "      <td>0.016788</td>\n",
       "      <td>-0.156974</td>\n",
       "      <td>-0.190787</td>\n",
       "      <td>-0.137084</td>\n",
       "      <td>-0.137370</td>\n",
       "      <td>0.001725</td>\n",
       "      <td>1.000000</td>\n",
       "      <td>-0.088684</td>\n",
       "      <td>-0.044309</td>\n",
       "      <td>-0.082517</td>\n",
       "      <td>-0.087019</td>\n",
       "      <td>-0.093756</td>\n",
       "      <td>-0.085093</td>\n",
       "    </tr>\n",
       "    <tr>\n",
       "      <th>Mobiliada</th>\n",
       "      <td>-0.106162</td>\n",
       "      <td>0.058462</td>\n",
       "      <td>0.123270</td>\n",
       "      <td>0.023764</td>\n",
       "      <td>0.036242</td>\n",
       "      <td>-0.121201</td>\n",
       "      <td>-0.088684</td>\n",
       "      <td>1.000000</td>\n",
       "      <td>-0.118735</td>\n",
       "      <td>-0.176495</td>\n",
       "      <td>-0.016263</td>\n",
       "      <td>-0.151005</td>\n",
       "      <td>-0.168680</td>\n",
       "    </tr>\n",
       "    <tr>\n",
       "      <th>Valor_Condo</th>\n",
       "      <td>0.196021</td>\n",
       "      <td>0.354649</td>\n",
       "      <td>0.320434</td>\n",
       "      <td>0.437679</td>\n",
       "      <td>0.333107</td>\n",
       "      <td>0.304571</td>\n",
       "      <td>-0.044309</td>\n",
       "      <td>-0.118735</td>\n",
       "      <td>1.000000</td>\n",
       "      <td>0.469526</td>\n",
       "      <td>0.535410</td>\n",
       "      <td>0.395983</td>\n",
       "      <td>0.720302</td>\n",
       "    </tr>\n",
       "    <tr>\n",
       "      <th>Valor_Aluguel</th>\n",
       "      <td>0.252618</td>\n",
       "      <td>0.603112</td>\n",
       "      <td>0.476805</td>\n",
       "      <td>0.605662</td>\n",
       "      <td>0.502552</td>\n",
       "      <td>0.116686</td>\n",
       "      <td>-0.082517</td>\n",
       "      <td>-0.176495</td>\n",
       "      <td>0.469526</td>\n",
       "      <td>1.000000</td>\n",
       "      <td>0.521585</td>\n",
       "      <td>0.985157</td>\n",
       "      <td>0.944987</td>\n",
       "    </tr>\n",
       "    <tr>\n",
       "      <th>IPTU</th>\n",
       "      <td>0.162911</td>\n",
       "      <td>0.598479</td>\n",
       "      <td>0.456069</td>\n",
       "      <td>0.563965</td>\n",
       "      <td>0.495653</td>\n",
       "      <td>0.073176</td>\n",
       "      <td>-0.087019</td>\n",
       "      <td>-0.016263</td>\n",
       "      <td>0.535410</td>\n",
       "      <td>0.521585</td>\n",
       "      <td>1.000000</td>\n",
       "      <td>0.510210</td>\n",
       "      <td>0.670008</td>\n",
       "    </tr>\n",
       "    <tr>\n",
       "      <th>Seguro_Incendio</th>\n",
       "      <td>0.215288</td>\n",
       "      <td>0.644644</td>\n",
       "      <td>0.499150</td>\n",
       "      <td>0.615638</td>\n",
       "      <td>0.520880</td>\n",
       "      <td>0.048984</td>\n",
       "      <td>-0.093756</td>\n",
       "      <td>-0.151005</td>\n",
       "      <td>0.395983</td>\n",
       "      <td>0.985157</td>\n",
       "      <td>0.510210</td>\n",
       "      <td>1.000000</td>\n",
       "      <td>0.910092</td>\n",
       "    </tr>\n",
       "    <tr>\n",
       "      <th>Valor_Total</th>\n",
       "      <td>0.266205</td>\n",
       "      <td>0.626499</td>\n",
       "      <td>0.505628</td>\n",
       "      <td>0.649819</td>\n",
       "      <td>0.533225</td>\n",
       "      <td>0.188821</td>\n",
       "      <td>-0.085093</td>\n",
       "      <td>-0.168680</td>\n",
       "      <td>0.720302</td>\n",
       "      <td>0.944987</td>\n",
       "      <td>0.670008</td>\n",
       "      <td>0.910092</td>\n",
       "      <td>1.000000</td>\n",
       "    </tr>\n",
       "  </tbody>\n",
       "</table>\n",
       "</div>"
      ],
      "text/plain": [
       "                   Cidade      Area  Qnt_Quartos  Qnt_Banheiros  \\\n",
       "Cidade           1.000000  0.034588    -0.050694       0.098658   \n",
       "Area             0.034588  1.000000     0.693940       0.731643   \n",
       "Qnt_Quartos     -0.050694  0.693940     1.000000       0.694589   \n",
       "Qnt_Banheiros    0.098658  0.731643     0.694589       1.000000   \n",
       "Vagas_Garagem    0.040666  0.623041     0.584108       0.658768   \n",
       "Andar            0.143851 -0.100980    -0.067566       0.020270   \n",
       "Animal           0.016788 -0.156974    -0.190787      -0.137084   \n",
       "Mobiliada       -0.106162  0.058462     0.123270       0.023764   \n",
       "Valor_Condo      0.196021  0.354649     0.320434       0.437679   \n",
       "Valor_Aluguel    0.252618  0.603112     0.476805       0.605662   \n",
       "IPTU             0.162911  0.598479     0.456069       0.563965   \n",
       "Seguro_Incendio  0.215288  0.644644     0.499150       0.615638   \n",
       "Valor_Total      0.266205  0.626499     0.505628       0.649819   \n",
       "\n",
       "                 Vagas_Garagem     Andar    Animal  Mobiliada  Valor_Condo  \\\n",
       "Cidade                0.040666  0.143851  0.016788  -0.106162     0.196021   \n",
       "Area                  0.623041 -0.100980 -0.156974   0.058462     0.354649   \n",
       "Qnt_Quartos           0.584108 -0.067566 -0.190787   0.123270     0.320434   \n",
       "Qnt_Banheiros         0.658768  0.020270 -0.137084   0.023764     0.437679   \n",
       "Vagas_Garagem         1.000000  0.015623 -0.137370   0.036242     0.333107   \n",
       "Andar                 0.015623  1.000000  0.001725  -0.121201     0.304571   \n",
       "Animal               -0.137370  0.001725  1.000000  -0.088684    -0.044309   \n",
       "Mobiliada             0.036242 -0.121201 -0.088684   1.000000    -0.118735   \n",
       "Valor_Condo           0.333107  0.304571 -0.044309  -0.118735     1.000000   \n",
       "Valor_Aluguel         0.502552  0.116686 -0.082517  -0.176495     0.469526   \n",
       "IPTU                  0.495653  0.073176 -0.087019  -0.016263     0.535410   \n",
       "Seguro_Incendio       0.520880  0.048984 -0.093756  -0.151005     0.395983   \n",
       "Valor_Total           0.533225  0.188821 -0.085093  -0.168680     0.720302   \n",
       "\n",
       "                 Valor_Aluguel      IPTU  Seguro_Incendio  Valor_Total  \n",
       "Cidade                0.252618  0.162911         0.215288     0.266205  \n",
       "Area                  0.603112  0.598479         0.644644     0.626499  \n",
       "Qnt_Quartos           0.476805  0.456069         0.499150     0.505628  \n",
       "Qnt_Banheiros         0.605662  0.563965         0.615638     0.649819  \n",
       "Vagas_Garagem         0.502552  0.495653         0.520880     0.533225  \n",
       "Andar                 0.116686  0.073176         0.048984     0.188821  \n",
       "Animal               -0.082517 -0.087019        -0.093756    -0.085093  \n",
       "Mobiliada            -0.176495 -0.016263        -0.151005    -0.168680  \n",
       "Valor_Condo           0.469526  0.535410         0.395983     0.720302  \n",
       "Valor_Aluguel         1.000000  0.521585         0.985157     0.944987  \n",
       "IPTU                  0.521585  1.000000         0.510210     0.670008  \n",
       "Seguro_Incendio       0.985157  0.510210         1.000000     0.910092  \n",
       "Valor_Total           0.944987  0.670008         0.910092     1.000000  "
      ]
     },
     "execution_count": 55,
     "metadata": {},
     "output_type": "execute_result"
    }
   ],
   "source": [
    "# correlação\n",
    "dados_copia.corr()"
   ]
  },
  {
   "cell_type": "code",
   "execution_count": 56,
   "metadata": {},
   "outputs": [
    {
     "data": {
      "text/html": [
       "<div>\n",
       "<style scoped>\n",
       "    .dataframe tbody tr th:only-of-type {\n",
       "        vertical-align: middle;\n",
       "    }\n",
       "\n",
       "    .dataframe tbody tr th {\n",
       "        vertical-align: top;\n",
       "    }\n",
       "\n",
       "    .dataframe thead th {\n",
       "        text-align: right;\n",
       "    }\n",
       "</style>\n",
       "<table border=\"1\" class=\"dataframe\">\n",
       "  <thead>\n",
       "    <tr style=\"text-align: right;\">\n",
       "      <th></th>\n",
       "      <th>Cidade</th>\n",
       "      <th>Area</th>\n",
       "      <th>Qnt_Quartos</th>\n",
       "      <th>Qnt_Banheiros</th>\n",
       "      <th>Vagas_Garagem</th>\n",
       "      <th>Andar</th>\n",
       "      <th>Animal</th>\n",
       "      <th>Mobiliada</th>\n",
       "      <th>Valor_Condo</th>\n",
       "      <th>Valor_Aluguel</th>\n",
       "      <th>IPTU</th>\n",
       "      <th>Seguro_Incendio</th>\n",
       "      <th>Valor_Total</th>\n",
       "    </tr>\n",
       "  </thead>\n",
       "  <tbody>\n",
       "    <tr>\n",
       "      <th>count</th>\n",
       "      <td>9622.000000</td>\n",
       "      <td>9622.000000</td>\n",
       "      <td>9622.000000</td>\n",
       "      <td>9622.000000</td>\n",
       "      <td>9622.000000</td>\n",
       "      <td>9622.000000</td>\n",
       "      <td>9622.000000</td>\n",
       "      <td>9622.000000</td>\n",
       "      <td>9622.000000</td>\n",
       "      <td>9622.000000</td>\n",
       "      <td>9622.000000</td>\n",
       "      <td>9622.000000</td>\n",
       "      <td>9622.000000</td>\n",
       "    </tr>\n",
       "    <tr>\n",
       "      <th>mean</th>\n",
       "      <td>2.913635</td>\n",
       "      <td>115.542507</td>\n",
       "      <td>2.336832</td>\n",
       "      <td>1.986281</td>\n",
       "      <td>1.319164</td>\n",
       "      <td>4.948348</td>\n",
       "      <td>0.223446</td>\n",
       "      <td>0.767512</td>\n",
       "      <td>833.923301</td>\n",
       "      <td>3125.266784</td>\n",
       "      <td>236.796612</td>\n",
       "      <td>42.259302</td>\n",
       "      <td>4238.410102</td>\n",
       "    </tr>\n",
       "    <tr>\n",
       "      <th>std</th>\n",
       "      <td>1.407260</td>\n",
       "      <td>92.508569</td>\n",
       "      <td>1.022932</td>\n",
       "      <td>1.142129</td>\n",
       "      <td>1.208227</td>\n",
       "      <td>4.926012</td>\n",
       "      <td>0.416577</td>\n",
       "      <td>0.422440</td>\n",
       "      <td>975.936573</td>\n",
       "      <td>2279.131976</td>\n",
       "      <td>373.535127</td>\n",
       "      <td>30.922366</td>\n",
       "      <td>3135.141843</td>\n",
       "    </tr>\n",
       "    <tr>\n",
       "      <th>min</th>\n",
       "      <td>0.000000</td>\n",
       "      <td>11.000000</td>\n",
       "      <td>1.000000</td>\n",
       "      <td>1.000000</td>\n",
       "      <td>0.000000</td>\n",
       "      <td>0.000000</td>\n",
       "      <td>0.000000</td>\n",
       "      <td>0.000000</td>\n",
       "      <td>0.000000</td>\n",
       "      <td>450.000000</td>\n",
       "      <td>0.000000</td>\n",
       "      <td>3.000000</td>\n",
       "      <td>499.000000</td>\n",
       "    </tr>\n",
       "    <tr>\n",
       "      <th>25%</th>\n",
       "      <td>2.000000</td>\n",
       "      <td>54.000000</td>\n",
       "      <td>1.000000</td>\n",
       "      <td>1.000000</td>\n",
       "      <td>0.000000</td>\n",
       "      <td>1.000000</td>\n",
       "      <td>0.000000</td>\n",
       "      <td>1.000000</td>\n",
       "      <td>223.250000</td>\n",
       "      <td>1470.000000</td>\n",
       "      <td>30.000000</td>\n",
       "      <td>20.000000</td>\n",
       "      <td>1952.000000</td>\n",
       "    </tr>\n",
       "    <tr>\n",
       "      <th>50%</th>\n",
       "      <td>4.000000</td>\n",
       "      <td>82.000000</td>\n",
       "      <td>2.000000</td>\n",
       "      <td>2.000000</td>\n",
       "      <td>1.000000</td>\n",
       "      <td>3.000000</td>\n",
       "      <td>0.000000</td>\n",
       "      <td>1.000000</td>\n",
       "      <td>554.500000</td>\n",
       "      <td>2400.000000</td>\n",
       "      <td>103.000000</td>\n",
       "      <td>32.000000</td>\n",
       "      <td>3221.500000</td>\n",
       "    </tr>\n",
       "    <tr>\n",
       "      <th>75%</th>\n",
       "      <td>4.000000</td>\n",
       "      <td>150.000000</td>\n",
       "      <td>3.000000</td>\n",
       "      <td>3.000000</td>\n",
       "      <td>2.000000</td>\n",
       "      <td>8.000000</td>\n",
       "      <td>0.000000</td>\n",
       "      <td>1.000000</td>\n",
       "      <td>1137.000000</td>\n",
       "      <td>4000.000000</td>\n",
       "      <td>286.000000</td>\n",
       "      <td>55.000000</td>\n",
       "      <td>5505.250000</td>\n",
       "    </tr>\n",
       "    <tr>\n",
       "      <th>max</th>\n",
       "      <td>4.000000</td>\n",
       "      <td>1000.000000</td>\n",
       "      <td>6.000000</td>\n",
       "      <td>7.000000</td>\n",
       "      <td>7.000000</td>\n",
       "      <td>26.000000</td>\n",
       "      <td>1.000000</td>\n",
       "      <td>1.000000</td>\n",
       "      <td>32000.000000</td>\n",
       "      <td>13500.000000</td>\n",
       "      <td>5404.000000</td>\n",
       "      <td>183.000000</td>\n",
       "      <td>32750.000000</td>\n",
       "    </tr>\n",
       "  </tbody>\n",
       "</table>\n",
       "</div>"
      ],
      "text/plain": [
       "            Cidade         Area  Qnt_Quartos  Qnt_Banheiros  Vagas_Garagem  \\\n",
       "count  9622.000000  9622.000000  9622.000000    9622.000000    9622.000000   \n",
       "mean      2.913635   115.542507     2.336832       1.986281       1.319164   \n",
       "std       1.407260    92.508569     1.022932       1.142129       1.208227   \n",
       "min       0.000000    11.000000     1.000000       1.000000       0.000000   \n",
       "25%       2.000000    54.000000     1.000000       1.000000       0.000000   \n",
       "50%       4.000000    82.000000     2.000000       2.000000       1.000000   \n",
       "75%       4.000000   150.000000     3.000000       3.000000       2.000000   \n",
       "max       4.000000  1000.000000     6.000000       7.000000       7.000000   \n",
       "\n",
       "             Andar       Animal    Mobiliada   Valor_Condo  Valor_Aluguel  \\\n",
       "count  9622.000000  9622.000000  9622.000000   9622.000000    9622.000000   \n",
       "mean      4.948348     0.223446     0.767512    833.923301    3125.266784   \n",
       "std       4.926012     0.416577     0.422440    975.936573    2279.131976   \n",
       "min       0.000000     0.000000     0.000000      0.000000     450.000000   \n",
       "25%       1.000000     0.000000     1.000000    223.250000    1470.000000   \n",
       "50%       3.000000     0.000000     1.000000    554.500000    2400.000000   \n",
       "75%       8.000000     0.000000     1.000000   1137.000000    4000.000000   \n",
       "max      26.000000     1.000000     1.000000  32000.000000   13500.000000   \n",
       "\n",
       "              IPTU  Seguro_Incendio   Valor_Total  \n",
       "count  9622.000000      9622.000000   9622.000000  \n",
       "mean    236.796612        42.259302   4238.410102  \n",
       "std     373.535127        30.922366   3135.141843  \n",
       "min       0.000000         3.000000    499.000000  \n",
       "25%      30.000000        20.000000   1952.000000  \n",
       "50%     103.000000        32.000000   3221.500000  \n",
       "75%     286.000000        55.000000   5505.250000  \n",
       "max    5404.000000       183.000000  32750.000000  "
      ]
     },
     "execution_count": 56,
     "metadata": {},
     "output_type": "execute_result"
    }
   ],
   "source": [
    "# resumo estatistico dos dados sem os outliers\n",
    "dados_copia.describe()"
   ]
  },
  {
   "cell_type": "code",
   "execution_count": 78,
   "metadata": {},
   "outputs": [],
   "source": [
    "# dividindo o dataset em treino e teste numa proporção de 50%\n",
    "msk = np.random.rand(len(dados_copia)) < 0.5\n",
    "dados_treino = dados_copia[msk]\n",
    "dados_teste = dados_copia[~msk]"
   ]
  },
  {
   "cell_type": "code",
   "execution_count": 82,
   "metadata": {},
   "outputs": [
    {
     "data": {
      "text/html": [
       "<div>\n",
       "<style scoped>\n",
       "    .dataframe tbody tr th:only-of-type {\n",
       "        vertical-align: middle;\n",
       "    }\n",
       "\n",
       "    .dataframe tbody tr th {\n",
       "        vertical-align: top;\n",
       "    }\n",
       "\n",
       "    .dataframe thead th {\n",
       "        text-align: right;\n",
       "    }\n",
       "</style>\n",
       "<table border=\"1\" class=\"dataframe\">\n",
       "  <thead>\n",
       "    <tr style=\"text-align: right;\">\n",
       "      <th></th>\n",
       "      <th>Cidade</th>\n",
       "      <th>Area</th>\n",
       "      <th>Qnt_Quartos</th>\n",
       "      <th>Qnt_Banheiros</th>\n",
       "      <th>Vagas_Garagem</th>\n",
       "      <th>Andar</th>\n",
       "      <th>Animal</th>\n",
       "      <th>Mobiliada</th>\n",
       "      <th>Valor_Condo</th>\n",
       "      <th>Valor_Aluguel</th>\n",
       "      <th>IPTU</th>\n",
       "      <th>Seguro_Incendio</th>\n",
       "      <th>Valor_Total</th>\n",
       "    </tr>\n",
       "  </thead>\n",
       "  <tbody>\n",
       "    <tr>\n",
       "      <th>1</th>\n",
       "      <td>4</td>\n",
       "      <td>320</td>\n",
       "      <td>4</td>\n",
       "      <td>4</td>\n",
       "      <td>0</td>\n",
       "      <td>20</td>\n",
       "      <td>0</td>\n",
       "      <td>1</td>\n",
       "      <td>1200</td>\n",
       "      <td>4960</td>\n",
       "      <td>1750</td>\n",
       "      <td>63</td>\n",
       "      <td>7973</td>\n",
       "    </tr>\n",
       "    <tr>\n",
       "      <th>2</th>\n",
       "      <td>2</td>\n",
       "      <td>80</td>\n",
       "      <td>1</td>\n",
       "      <td>1</td>\n",
       "      <td>1</td>\n",
       "      <td>6</td>\n",
       "      <td>0</td>\n",
       "      <td>1</td>\n",
       "      <td>1000</td>\n",
       "      <td>2800</td>\n",
       "      <td>0</td>\n",
       "      <td>41</td>\n",
       "      <td>3841</td>\n",
       "    </tr>\n",
       "    <tr>\n",
       "      <th>3</th>\n",
       "      <td>2</td>\n",
       "      <td>51</td>\n",
       "      <td>2</td>\n",
       "      <td>1</td>\n",
       "      <td>0</td>\n",
       "      <td>2</td>\n",
       "      <td>0</td>\n",
       "      <td>1</td>\n",
       "      <td>270</td>\n",
       "      <td>1112</td>\n",
       "      <td>22</td>\n",
       "      <td>17</td>\n",
       "      <td>1421</td>\n",
       "    </tr>\n",
       "    <tr>\n",
       "      <th>4</th>\n",
       "      <td>4</td>\n",
       "      <td>25</td>\n",
       "      <td>1</td>\n",
       "      <td>1</td>\n",
       "      <td>0</td>\n",
       "      <td>1</td>\n",
       "      <td>1</td>\n",
       "      <td>1</td>\n",
       "      <td>0</td>\n",
       "      <td>800</td>\n",
       "      <td>25</td>\n",
       "      <td>11</td>\n",
       "      <td>836</td>\n",
       "    </tr>\n",
       "    <tr>\n",
       "      <th>6</th>\n",
       "      <td>3</td>\n",
       "      <td>72</td>\n",
       "      <td>2</td>\n",
       "      <td>1</td>\n",
       "      <td>0</td>\n",
       "      <td>7</td>\n",
       "      <td>0</td>\n",
       "      <td>1</td>\n",
       "      <td>740</td>\n",
       "      <td>1900</td>\n",
       "      <td>85</td>\n",
       "      <td>25</td>\n",
       "      <td>2750</td>\n",
       "    </tr>\n",
       "  </tbody>\n",
       "</table>\n",
       "</div>"
      ],
      "text/plain": [
       "   Cidade  Area  Qnt_Quartos  Qnt_Banheiros  Vagas_Garagem  Andar  Animal  \\\n",
       "1       4   320            4              4              0     20       0   \n",
       "2       2    80            1              1              1      6       0   \n",
       "3       2    51            2              1              0      2       0   \n",
       "4       4    25            1              1              0      1       1   \n",
       "6       3    72            2              1              0      7       0   \n",
       "\n",
       "   Mobiliada  Valor_Condo  Valor_Aluguel  IPTU  Seguro_Incendio  Valor_Total  \n",
       "1          1         1200           4960  1750               63         7973  \n",
       "2          1         1000           2800     0               41         3841  \n",
       "3          1          270           1112    22               17         1421  \n",
       "4          1            0            800    25               11          836  \n",
       "6          1          740           1900    85               25         2750  "
      ]
     },
     "execution_count": 82,
     "metadata": {},
     "output_type": "execute_result"
    }
   ],
   "source": [
    "dados_treino.head()"
   ]
  },
  {
   "cell_type": "code",
   "execution_count": 83,
   "metadata": {},
   "outputs": [],
   "source": [
    "# selecionando as features para construção do modelo\n",
    "features = ['Cidade','Area','Qnt_Quartos','Qnt_Banheiros','Vagas_Garagem','Andar','Valor_Condo','IPTU','Seguro_Incendio']"
   ]
  },
  {
   "cell_type": "code",
   "execution_count": 85,
   "metadata": {},
   "outputs": [
    {
     "data": {
      "text/plain": [
       "(4791, 9)"
      ]
     },
     "execution_count": 85,
     "metadata": {},
     "output_type": "execute_result"
    }
   ],
   "source": [
    "# importando a função de normalização da biblioteca sklearn\n",
    "from sklearn.preprocessing import MinMaxScaler\n",
    "\n",
    "# aplicando a função MinMaxScaler nas features selecionadas\n",
    "scaler = MinMaxScaler() \n",
    "dados_normalizados = scaler.fit_transform(dados_treino[features])\n",
    "dados_normalizados.shape"
   ]
  },
  {
   "cell_type": "code",
   "execution_count": 86,
   "metadata": {},
   "outputs": [],
   "source": [
    "# separando as variaveis de entrada e a variavel alvo\n",
    "X = dados_normalizados\n",
    "y = dados_treino['Valor_Aluguel'].values"
   ]
  },
  {
   "cell_type": "code",
   "execution_count": null,
   "metadata": {},
   "outputs": [],
   "source": []
  }
 ],
 "metadata": {
  "interpreter": {
   "hash": "6a6ee9ba85589d19130e8c84c2dec906729bb6da516459a7716f2ae0c05694f8"
  },
  "kernelspec": {
   "display_name": "Python 3.8.8 ('base')",
   "language": "python",
   "name": "python3"
  },
  "language_info": {
   "codemirror_mode": {
    "name": "ipython",
    "version": 3
   },
   "file_extension": ".py",
   "mimetype": "text/x-python",
   "name": "python",
   "nbconvert_exporter": "python",
   "pygments_lexer": "ipython3",
   "version": "3.8.8"
  },
  "orig_nbformat": 4
 },
 "nbformat": 4,
 "nbformat_minor": 2
}
